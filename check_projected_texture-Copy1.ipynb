{
 "cells": [
  {
   "cell_type": "markdown",
   "id": "05200244",
   "metadata": {},
   "source": [
    "Install [nvdiffrast](https://nvlabs.github.io/nvdiffrast),\n",
    "which we use as the interface between PyTorch and OpenGL.\n",
    "```bash\n",
    "# Don't forget to activate you python environment first\n",
    "git clone https://github.com/NVlabs/nvdiffrast /tmp/nvdiffrast\n",
    "pip install /tmp/nvdiffrast\n",
    "rm -rf /tmp/nvdiffrast\n",
    "```"
   ]
  },
  {
   "cell_type": "code",
   "execution_count": null,
   "id": "57a2bd6c",
   "metadata": {},
   "outputs": [],
   "source": [
    "! cd workspace/pixel-perfect-sfm/outputs/dragon/projected_texture/exp2_before_ba |  \n",
    "DISPLAY=:5 vglrun feh --force-aliasing --keep-zoom -dZV *\n"
   ]
  },
  {
   "cell_type": "code",
   "execution_count": 22,
   "id": "e18a9c97",
   "metadata": {},
   "outputs": [
    {
     "name": "stdout",
     "output_type": "stream",
     "text": [
      "Experiment in /workspace/pixel-perfect-sfm/outputs/white_piggybank/query_localizer_optimum/query_localizer_v1/result\n",
      "{0: Camera(id=0, model='PINHOLE', width=2368, height=1952, params=array([2316.55591276, 2318.78002348, 1178.68348331,  978.75823652]))}\n",
      "  0%|                                                     | 0/3 [00:00<?, ?it/s]project_texture_on_mesh.py:155: UserWarning: The given NumPy array is not writeable, and PyTorch does not support non-writeable tensors. This means you can write to the underlying (supposedly non-writeable) NumPy array using the tensor. You may want to copy the array to protect its data or make it writeable before converting it to a tensor. This type of warning will be suppressed for the rest of this program. (Triggered internally at  /opt/conda/conda-bld/pytorch_1614378083779/work/torch/csrc/utils/tensor_numpy.cpp:143.)\n",
      "  img = torch.from_numpy(img).permute(2, 0, 1).to(dtype)  # [channels_n, height, width]\n",
      "100%|█████████████████████████████████████████████| 3/3 [00:00<00:00,  5.79it/s]\n",
      "  0%|                                                     | 0/3 [00:00<?, ?it/s]/opt/miniconda3/envs/py38/lib/python3.8/site-packages/torch/nn/functional.py:3825: UserWarning: Default grid_sample and affine_grid behavior has changed to align_corners=False since 1.3.0. Please specify align_corners=True if the old behavior is desired. See the documentation of grid_sample for details.\n",
      "  warnings.warn(\n",
      "100%|█████████████████████████████████████████████| 3/3 [00:03<00:00,  1.12s/it]\n",
      "100%|█████████████████████████████████████████████| 3/3 [00:01<00:00,  2.14it/s]\n",
      "Experiment in /workspace/pixel-perfect-sfm/outputs/white_piggybank/query_localizer_optimum/query_localizer_v1/result\n",
      "{0: Camera(id=0, model='PINHOLE', width=2368, height=1952, params=array([2316.55591276, 2318.78002348, 1178.68348331,  978.75823652]))}\n",
      "100%|█████████████████████████████████████████████| 3/3 [00:00<00:00,  6.23it/s]\n",
      "  0%|                                                     | 0/3 [00:00<?, ?it/s]/opt/miniconda3/envs/py38/lib/python3.8/site-packages/torch/nn/functional.py:3825: UserWarning: Default grid_sample and affine_grid behavior has changed to align_corners=False since 1.3.0. Please specify align_corners=True if the old behavior is desired. See the documentation of grid_sample for details.\n",
      "  warnings.warn(\n",
      "100%|█████████████████████████████████████████████| 3/3 [00:01<00:00,  1.80it/s]\n",
      "100%|█████████████████████████████████████████████| 3/3 [00:01<00:00,  2.03it/s]\n",
      "Experiment in /workspace/pixel-perfect-sfm/outputs/white_piggybank/query_localizer_optimum/query_localizer_v1/result\n",
      "{0: Camera(id=0, model='PINHOLE', width=2368, height=1952, params=array([2316.55591276, 2318.78002348, 1178.68348331,  978.75823652]))}\n",
      "100%|█████████████████████████████████████████████| 3/3 [00:00<00:00,  6.38it/s]\n",
      "  0%|                                                     | 0/3 [00:00<?, ?it/s]/opt/miniconda3/envs/py38/lib/python3.8/site-packages/torch/nn/functional.py:3825: UserWarning: Default grid_sample and affine_grid behavior has changed to align_corners=False since 1.3.0. Please specify align_corners=True if the old behavior is desired. See the documentation of grid_sample for details.\n",
      "  warnings.warn(\n",
      "100%|█████████████████████████████████████████████| 3/3 [00:01<00:00,  1.57it/s]\n",
      "100%|█████████████████████████████████████████████| 3/3 [00:01<00:00,  2.08it/s]\n",
      "Experiment in /workspace/pixel-perfect-sfm/outputs/white_piggybank/query_localizer_optimum/query_localizer_v1/result\n",
      "{0: Camera(id=0, model='PINHOLE', width=2368, height=1952, params=array([2316.55591276, 2318.78002348, 1178.68348331,  978.75823652]))}\n",
      "100%|█████████████████████████████████████████████| 3/3 [00:00<00:00,  6.59it/s]\n",
      "  0%|                                                     | 0/3 [00:00<?, ?it/s]/opt/miniconda3/envs/py38/lib/python3.8/site-packages/torch/nn/functional.py:3825: UserWarning: Default grid_sample and affine_grid behavior has changed to align_corners=False since 1.3.0. Please specify align_corners=True if the old behavior is desired. See the documentation of grid_sample for details.\n",
      "  warnings.warn(\n",
      "100%|█████████████████████████████████████████████| 3/3 [00:01<00:00,  2.09it/s]\n",
      "100%|█████████████████████████████████████████████| 3/3 [00:01<00:00,  2.24it/s]\n",
      "Experiment in /workspace/pixel-perfect-sfm/outputs/white_piggybank/query_localizer_optimum/query_localizer_v1/result\n",
      "{0: Camera(id=0, model='PINHOLE', width=2368, height=1952, params=array([2316.55591276, 2318.78002348, 1178.68348331,  978.75823652]))}\n",
      "100%|█████████████████████████████████████████████| 3/3 [00:00<00:00,  6.39it/s]\n",
      "  0%|                                                     | 0/3 [00:00<?, ?it/s]/opt/miniconda3/envs/py38/lib/python3.8/site-packages/torch/nn/functional.py:3825: UserWarning: Default grid_sample and affine_grid behavior has changed to align_corners=False since 1.3.0. Please specify align_corners=True if the old behavior is desired. See the documentation of grid_sample for details.\n",
      "  warnings.warn(\n",
      "100%|█████████████████████████████████████████████| 3/3 [00:01<00:00,  2.03it/s]\n",
      "100%|█████████████████████████████████████████████| 3/3 [00:01<00:00,  2.07it/s]\n",
      "Experiment in /workspace/pixel-perfect-sfm/outputs/white_piggybank/query_localizer_optimum/query_localizer_v1/result\n",
      "{0: Camera(id=0, model='PINHOLE', width=2368, height=1952, params=array([2316.55591276, 2318.78002348, 1178.68348331,  978.75823652]))}\n",
      "100%|█████████████████████████████████████████████| 3/3 [00:00<00:00,  6.51it/s]\n",
      "  0%|                                                     | 0/3 [00:00<?, ?it/s]/opt/miniconda3/envs/py38/lib/python3.8/site-packages/torch/nn/functional.py:3825: UserWarning: Default grid_sample and affine_grid behavior has changed to align_corners=False since 1.3.0. Please specify align_corners=True if the old behavior is desired. See the documentation of grid_sample for details.\n",
      "  warnings.warn(\n",
      "100%|█████████████████████████████████████████████| 3/3 [00:01<00:00,  1.88it/s]\n",
      "100%|█████████████████████████████████████████████| 3/3 [00:01<00:00,  2.21it/s]\n",
      "Experiment in /workspace/pixel-perfect-sfm/outputs/white_piggybank/query_localizer_optimum/query_localizer_v1/result\n",
      "{0: Camera(id=0, model='PINHOLE', width=2368, height=1952, params=array([2316.55591276, 2318.78002348, 1178.68348331,  978.75823652]))}\n",
      "100%|█████████████████████████████████████████████| 3/3 [00:00<00:00,  6.79it/s]\n",
      "  0%|                                                     | 0/3 [00:00<?, ?it/s]/opt/miniconda3/envs/py38/lib/python3.8/site-packages/torch/nn/functional.py:3825: UserWarning: Default grid_sample and affine_grid behavior has changed to align_corners=False since 1.3.0. Please specify align_corners=True if the old behavior is desired. See the documentation of grid_sample for details.\n",
      "  warnings.warn(\n",
      "100%|█████████████████████████████████████████████| 3/3 [00:01<00:00,  1.95it/s]\n",
      "100%|█████████████████████████████████████████████| 3/3 [00:01<00:00,  2.15it/s]\n",
      "Experiment in /workspace/pixel-perfect-sfm/outputs/white_piggybank/query_localizer_optimum/query_localizer_v1/result\n",
      "{0: Camera(id=0, model='PINHOLE', width=2368, height=1952, params=array([2316.55591276, 2318.78002348, 1178.68348331,  978.75823652]))}\n",
      "100%|█████████████████████████████████████████████| 3/3 [00:00<00:00,  6.62it/s]\n",
      "  0%|                                                     | 0/3 [00:00<?, ?it/s]/opt/miniconda3/envs/py38/lib/python3.8/site-packages/torch/nn/functional.py:3825: UserWarning: Default grid_sample and affine_grid behavior has changed to align_corners=False since 1.3.0. Please specify align_corners=True if the old behavior is desired. See the documentation of grid_sample for details.\n",
      "  warnings.warn(\n",
      "100%|█████████████████████████████████████████████| 3/3 [00:01<00:00,  1.97it/s]\n",
      "100%|█████████████████████████████████████████████| 3/3 [00:01<00:00,  2.07it/s]\n",
      "Experiment in /workspace/pixel-perfect-sfm/outputs/white_piggybank/query_localizer_optimum/query_localizer_v1/result\n",
      "{0: Camera(id=0, model='PINHOLE', width=2368, height=1952, params=array([2316.55591276, 2318.78002348, 1178.68348331,  978.75823652]))}\n"
     ]
    },
    {
     "name": "stdout",
     "output_type": "stream",
     "text": [
      "100%|█████████████████████████████████████████████| 3/3 [00:00<00:00,  6.73it/s]\n",
      "  0%|                                                     | 0/3 [00:00<?, ?it/s]/opt/miniconda3/envs/py38/lib/python3.8/site-packages/torch/nn/functional.py:3825: UserWarning: Default grid_sample and affine_grid behavior has changed to align_corners=False since 1.3.0. Please specify align_corners=True if the old behavior is desired. See the documentation of grid_sample for details.\n",
      "  warnings.warn(\n",
      "100%|█████████████████████████████████████████████| 3/3 [00:01<00:00,  2.03it/s]\n",
      "100%|█████████████████████████████████████████████| 3/3 [00:01<00:00,  2.16it/s]\n"
     ]
    }
   ],
   "source": [
    "!chmod +x ./project_texture_on_mesh.py\n",
    "\n",
    "!python3 project_texture_on_mesh.py -n white_piggybank -l 5 11 17 23 35 47 65 78 84"
   ]
  },
  {
   "cell_type": "code",
   "execution_count": 3,
   "id": "606b221d",
   "metadata": {},
   "outputs": [
    {
     "name": "stdout",
     "output_type": "stream",
     "text": [
      "None\n",
      "False\n"
     ]
    }
   ],
   "source": [
    "import torch\n",
    "print(torch.version.cuda)import os\n",
    "os.environ[\"CUDA_VISIBLE_DEVICES\"]=\"0\"\n",
    "\n",
    "print(torch.cuda.is_available())"
   ]
  },
  {
   "cell_type": "code",
   "execution_count": 2,
   "id": "fce27c3e",
   "metadata": {},
   "outputs": [
    {
     "name": "stdout",
     "output_type": "stream",
     "text": [
      "Jupyter environment detected. Enabling Open3D WebVisualizer.\n",
      "[Open3D INFO] WebRTC GUI backend enabled.\n",
      "[Open3D INFO] WebRTCWindowSystem: HTTP handshake server disabled.\n"
     ]
    },
    {
     "name": "stderr",
     "output_type": "stream",
     "text": [
      "/opt/miniconda3/envs/py38/lib/python3.8/site-packages/scipy/__init__.py:146: UserWarning: A NumPy version >=1.16.5 and <1.23.0 is required for this version of SciPy (detected version 1.23.1\n",
      "  warnings.warn(f\"A NumPy version >={np_minversion} and <{np_maxversion}\"\n"
     ]
    }
   ],
   "source": [
    "import sys\n",
    "\n",
    "from PIL import Image\n",
    "import numpy as np\n",
    "import open3d as o3d\n",
    "import torch\n",
    "from tqdm.auto import tqdm\n",
    "\n",
    "sys.path.append('/workspace/dev.sk_robot_rgbd_data/src')\n",
    "from skrgbd.calibration.camera_models import load_colmap_camera\n",
    "from skrgbd.data.depth_utils.mesh_rendering_gl import MeshRenderer\n",
    "from skrgbd.data.io.poses import Poses\n",
    "\n",
    "sys.path.append('/workspace/dev.sk_robot_rgbd_data/misc/bits')\n",
    "from check_projected_texture import get_pts_uv, occlude_pts\n",
    "from pathlib import Path, PurePath\n",
    "\n",
    "# Set the working device and dtype. Only float32 at GPUs are supported.\n",
    "dtype = torch.float32\n",
    "device = 'cuda:0'"
   ]
  },
  {
   "cell_type": "code",
   "execution_count": 3,
   "id": "78290ad1",
   "metadata": {},
   "outputs": [
    {
     "name": "stdout",
     "output_type": "stream",
     "text": [
      "{1: Camera(id=1, model='PINHOLE', width=2368, height=1952, params=array([2299.32285848, 2802.61797703, 1184.        ,  976.        ]))}\n"
     ]
    },
    {
     "data": {
      "application/vnd.jupyter.widget-view+json": {
       "model_id": "7e38c55e9f1944cdaa0239e6a893fef7",
       "version_major": 2,
       "version_minor": 0
      },
      "text/plain": [
       "  0%|          | 0/12 [00:00<?, ?it/s]"
      ]
     },
     "metadata": {},
     "output_type": "display_data"
    },
    {
     "name": "stderr",
     "output_type": "stream",
     "text": [
      "<ipython-input-3-5a57f8e83e2b>:64: UserWarning: The given NumPy array is not writeable, and PyTorch does not support non-writeable tensors. This means you can write to the underlying (supposedly non-writeable) NumPy array using the tensor. You may want to copy the array to protect its data or make it writeable before converting it to a tensor. This type of warning will be suppressed for the rest of this program. (Triggered internally at  ../torch/csrc/utils/tensor_numpy.cpp:189.)\n",
      "  img = torch.from_numpy(img).permute(2, 0, 1).to(dtype)  # [channels_n, height, width]\n"
     ]
    }
   ],
   "source": [
    "object_name = 'ceramic_girl_in_hat'\n",
    "\n",
    "# Load mesh\n",
    "rec = f'/workspace/datasets/sk3d/dataset/{object_name}/stl/reconstruction/cleaned.ply'\n",
    "rec = o3d.io.read_triangle_mesh(rec)\n",
    "\n",
    "# Load occlusion mesh\n",
    "occ = f'/workspace/datasets/sk3d/dataset/{object_name}/stl/occluded_space.ply'\n",
    "occ = o3d.io.read_triangle_mesh(occ)\n",
    "\n",
    "# Load info from one of the experiments' outputs\n",
    "\n",
    "################################################################\n",
    "################################################################\n",
    "\n",
    "outputs = Path('/workspace/pixel-perfect-sfm/outputs/')\n",
    "\n",
    "pixsfm_1 = outputs / f'{object_name}/ref_exp1/hloc/model_txt/'\n",
    "pixsfm_2 = outputs / f'{object_name}/ref_exp2/hloc/model_txt/'\n",
    "pixsfm_3 = outputs / f'{object_name}/ref_exp3/thresh_0.09/model_txt/'\n",
    "\n",
    "pixsfm_1_one_cam_T_icp = outputs / f'{object_name}/ref_exp1_single_cam/coordinate_systems/init_coordinate_system_T'\n",
    "pixsfm_1_one_cam_T1_icp = outputs / f'{object_name}/ref_exp1_single_cam/coordinate_systems/init_coordinate_system_T1'\n",
    "pixsfm_1_one_cam_T2_icp = outputs / f'{object_name}/ref_exp1_single_cam/coordinate_systems/init_coordinate_system_T2'\n",
    "pixsfm_1_one_cam_model_aligner = outputs / f'{object_name}/ref_exp1_single_cam/coordinate_systems/init_coordinate_system_colmap'\n",
    "\n",
    "\n",
    "\n",
    "pixloc_exp_1_1 = Path('/workspace/pose_refinement/pixloc_experiments/pixloc/outputs/hloc/Dragon_v1/sfm/new_poses_retrieval/')\n",
    "pixloc_exp_1_2 = Path('/workspace/pose_refinement/pixloc_experiments/pixloc/outputs/hloc/Dragon_v1/sfm/new_poses_exhaustive/')\n",
    "\n",
    "pixloc_exp_2 = Path('/workspace/pose_refinement/pixloc_experiments/pixloc/outputs/hloc/Dragon_v2/sfm/new_poses_retrieval/')\n",
    "\n",
    "pixsfm_dragon_1_v2 = outputs / 'dragon_demo_v2/converted_ref_txt/'\n",
    "\n",
    "pixsfm_1_new_coord = Path('/workspace/pixel-perfect-sfm/outputs/dragon/ref_exp1_single_cam/hloc/init_coordinate_system')\n",
    "pixsfm_1_new_coord_colmap = Path('/workspace/pixel-perfect-sfm/outputs/dragon/ref_exp1_single_cam/hloc/init_coordinate_system_colmap/model_txt')\n",
    "\n",
    "root_pixloc = Path('/workspace/pose_refinement/pixloc_experiments/pixloc/outputs/results/')\n",
    "pixloc_1 = root_pixloc / 'exp_4_optimum/init_coordinate_system'\n",
    "\n",
    "pixsfm_loc = Path('/workspace/pixel-perfect-sfm/outputs/ceramic_girl_in_hat/localization/ref_exp1_single_cam/result/init_coordinate_system')\n",
    "\n",
    "################################################################\n",
    "################################################################    \n",
    "  \n",
    "path = pixsfm_1_one_cam_T_icp    \n",
    "    \n",
    "    \n",
    "    \n",
    "# Load intrinsic camera model    \n",
    "cam_model = path  / 'cameras.txt'\n",
    "\n",
    "# Load camera poses\n",
    "poses = path / 'images.txt'\n",
    "\n",
    "cam_model = load_colmap_camera(str(cam_model))\n",
    "cam_model = cam_model.to(device, dtype)\n",
    "\n",
    "poses = Poses.from_colmap(str(poses), dtype)\n",
    "world_to_cam = torch.empty(len(poses), 4, 4, device=device, dtype=dtype)\n",
    "\n",
    "view_ids = [0, 10, 11, 12, 13, 14, 15, 16, 17, 18, 19, 20]\n",
    "for view_i in view_ids:\n",
    "    img_i = view_i + 1  # COLMAP's image_id is one-based\n",
    "    world_to_cam[view_i].copy_(poses[img_i])\n",
    "del poses\n",
    "\n",
    "# Load images\n",
    "imgs = dict()\n",
    "for view_i in tqdm(view_ids):\n",
    "    img = f'/workspace/datasets/sk3d/dataset/{object_name}/tis_right/rgb/undistorted/ambient@best/{view_i:04}.png'\n",
    "    img = Image.open(img)\n",
    "    img = np.asarray(img)\n",
    "    img = torch.from_numpy(img).permute(2, 0, 1).to(dtype)  # [channels_n, height, width]\n",
    "    imgs[view_i] = img; del img"
   ]
  },
  {
   "cell_type": "code",
   "execution_count": 4,
   "id": "56f06f61",
   "metadata": {},
   "outputs": [],
   "source": [
    "# Setup the renderer\n",
    "renderer = MeshRenderer(rec, device)\n",
    "renderer.init_mesh_data()\n",
    "\n",
    "renderer.set_cam_model(cam_model, near=.5, far=1.5)   # here we use camera model\n",
    "renderer.set_resolution(*imgs[0].shape[-2:])\n",
    "\n",
    "# Choose the view to render to\n",
    "render_view_i = 14"
   ]
  },
  {
   "cell_type": "code",
   "execution_count": 5,
   "id": "7a34c655",
   "metadata": {
    "scrolled": true
   },
   "outputs": [
    {
     "data": {
      "application/vnd.jupyter.widget-view+json": {
       "model_id": "83c9fb2fc3924ecab4082cfb0490faf9",
       "version_major": 2,
       "version_minor": 0
      },
      "text/plain": [
       "  0%|          | 0/12 [00:00<?, ?it/s]"
      ]
     },
     "metadata": {},
     "output_type": "display_data"
    },
    {
     "name": "stderr",
     "output_type": "stream",
     "text": [
      "/opt/miniconda3/envs/py38/lib/python3.8/site-packages/torch/nn/functional.py:4003: UserWarning: Default grid_sample and affine_grid behavior has changed to align_corners=False since 1.3.0. Please specify align_corners=True if the old behavior is desired. See the documentation of grid_sample for details.\n",
      "  warnings.warn(\n"
     ]
    }
   ],
   "source": [
    "# Reproject images to the render view using the mesh as proxy\n",
    "rec_verts = np.asarray(rec.vertices)\n",
    "rec_verts = torch.from_numpy(rec_verts).to(device, dtype)\n",
    "\n",
    "reprojections = dict()\n",
    "for view_i in tqdm(view_ids):\n",
    "    uv = get_pts_uv(rec_verts, cam_model, world_to_cam[view_i])\n",
    "    vert_is_visible = occlude_pts(rec_verts, occ, world_to_cam[view_i], vis_threshold=1e-3)\n",
    "    uv = uv.where(vert_is_visible.unsqueeze(1).expand_as(uv), uv.new_tensor(float('nan'))); del vert_is_visible\n",
    "    \n",
    "    rast = renderer.render_to_camera(world_to_cam[render_view_i])\n",
    "    uv = renderer.interpolate(uv, rast); del rast\n",
    "    \n",
    "    img = imgs[view_i].to(device)\n",
    "    reprojection = torch.nn.functional.grid_sample(img.unsqueeze(0), uv.unsqueeze(0), mode='bilinear').squeeze(0); del uv, img\n",
    "    reprojection = reprojection.round_().clamp_(0, 255).permute(1, 2, 0).to('cpu', torch.uint8)\n",
    "    reprojections[view_i] = reprojection; del reprojection"
   ]
  },
  {
   "cell_type": "code",
   "execution_count": 10,
   "id": "73f62a97",
   "metadata": {},
   "outputs": [
    {
     "data": {
      "image/png": "[encoded data removed]",
      "text/plain": [
       "<PIL.Image.Image image mode=RGB size=2368x1952>"
      ]
     },
     "execution_count": 10,
     "metadata": {},
     "output_type": "execute_result"
    }
   ],
   "source": [
    "Image.fromarray(reprojections[0].numpy())"
   ]
  },
  {
   "cell_type": "code",
   "execution_count": 7,
   "id": "7f8d6690",
   "metadata": {},
   "outputs": [],
   "source": [
    "# images_on_mesh = Path('/workspace/pixel-perfect-sfm/rgbd_experiments/images_on_mesh')\n",
    "# images_on_mesh.mkdir(parents=True, exist_ok=True)\n",
    "\n",
    "\n",
    "# pathname = images_on_mesh / f'{object_name}/pixloc_exp_1_1'\n",
    "# pathname.mkdir(parents=True, exist_ok=True)\n",
    "\n",
    "# for view_i in tqdm(view_ids):\n",
    "#     img = Image.fromarray(reprojections[view_i].numpy())\n",
    "#     img.save(f'{pathname}/{view_i:04}.png'); del img"
   ]
  }
 ],
 "metadata": {
  "kernelspec": {
   "display_name": "Python 3 (ipykernel)",
   "language": "python",
   "name": "python3"
  },
  "language_info": {
   "codemirror_mode": {
    "name": "ipython",
    "version": 3
   },
   "file_extension": ".py",
   "mimetype": "text/x-python",
   "name": "python",
   "nbconvert_exporter": "python",
   "pygments_lexer": "ipython3",
   "version": "3.8.13"
  }
 },
 "nbformat": 4,
 "nbformat_minor": 5
}
