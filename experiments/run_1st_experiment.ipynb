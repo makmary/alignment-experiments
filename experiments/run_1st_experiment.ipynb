{
 "cells": [
  {
   "cell_type": "markdown",
   "id": "4ee7e7a4",
   "metadata": {},
   "source": [
    "## FIRST EXPERIMENT"
   ]
  },
  {
   "cell_type": "markdown",
   "id": "8ca31270",
   "metadata": {},
   "source": [
    "В первом эксперименте мы получаем реконструкцию при помощи метода, который был описан в демо PixSfM. Суть данного метода заключается в том, что мы при помощи **hloc** получаем локальные features для каждой картинки, создаем matches между каждой пары картинок, затем по полученным данныи и при помощи различных конфигов получаем SfM и записываем результат в папку."
   ]
  },
  {
   "cell_type": "markdown",
   "id": "7652f315",
   "metadata": {},
   "source": [
    "# Libraries"
   ]
  },
  {
   "cell_type": "code",
   "execution_count": null,
   "id": "caf9749c",
   "metadata": {},
   "outputs": [],
   "source": [
    "%load_ext autoreload\n",
    "%autoreload 2\n",
    "import tqdm, tqdm.notebook\n",
    "tqdm.tqdm = tqdm.notebook.tqdm  # notebook-friendly progress bars\n",
    "\n",
    "from pathlib import Path\n",
    "import pycolmap\n",
    "import sys\n",
    "\n",
    "sys.path.append(\"/workspace/pixel-perfect-sfm/\")\n",
    "sys.path.append(\"/workspace/pixel-perfect-sfm/Hierarchical-Localization\")\n",
    "\n",
    "from hloc import extract_features, match_features, reconstruction, pairs_from_exhaustive, visualization\n",
    "from hloc.visualization import plot_images, read_image\n",
    "from hloc.utils.viz_3d import init_figure, plot_points, plot_reconstruction, plot_camera_colmap\n",
    "from hloc.utils.read_write_model import  write_next_bytes, Point3D, Image, read_images_text, read_points3D_binary,\\\n",
    "        write_points3D_binary, write_images_binary, read_images_binary, read_cameras_text\n",
    "\n",
    "from pixsfm.util.visualize import init_image, plot_points2D\n",
    "from pixsfm.refine_hloc import PixSfM\n",
    "from pixsfm import ostream_redirect\n",
    "\n",
    "import numpy as np\n",
    "from matplotlib import pyplot as plt\n",
    "\n",
    "import open3d as o3d\n",
    "assert o3d.__version__ == '0.15.2', 'The version 0.15.2 is required!'\n",
    "\n",
    "# redirect the C++ outputs to notebook cells\n",
    "cpp_out = ostream_redirect(stderr=True, stdout=True)\n",
    "cpp_out.__enter__()"
   ]
  },
  {
   "cell_type": "markdown",
   "id": "ebc221c7",
   "metadata": {},
   "source": [
    "# Setup"
   ]
  },
  {
   "cell_type": "markdown",
   "id": "b7d9639a",
   "metadata": {},
   "source": [
    "В **object_name** необходимо задать имя объекта, над которым вы хотите провести эксперимент.\n",
    "\n",
    "**check_for_calibrated_images** - булевая переменная, по которой мы выбираем какие поз камер использовать (менее точные (True) или точные (False)).\n",
    "\n",
    "**delete_previous_output** - если True, то удаляет все предыдущие файлы в папке outputs. Использовать супер осторожно.\n",
    "\n",
    "**has_cache** - если True, то у Вас уже существует файл с feature maps и он сохранен в папке cache_init. Это файл с feature maps Вы получаете только тогда, когда вы уже сделали featuremetric KA или BA для одного из ваших экспериментов.\n",
    "\n",
    "**show_visualization** - если True, то показывает визуализацию результата эксперимента (3d pointcloud, задектированные keypoints (features) и final reprojections для какого-то изображения)."
   ]
  },
  {
   "cell_type": "code",
   "execution_count": null,
   "id": "aa15188f",
   "metadata": {},
   "outputs": [],
   "source": [
    "object_name = 'dragon'\n",
    "\n",
    "check_for_calibrated_images = False\n",
    "delete_previous_output = False\n",
    "\n",
    "has_cache = True\n",
    "show_visualization = False"
   ]
  },
  {
   "cell_type": "markdown",
   "id": "bac313aa",
   "metadata": {},
   "source": [
    "**images_init** - путь к файлу images.txt с известными позами камер (каждая вторая строка пустая)\n",
    "\n",
    "**calibrated_images_init** - путь к файлу images.txt c известнами позами камер (но менее точные)\n",
    "\n",
    "**cameras_init** - путь к файлу cameras.txt, где хранятся GT параметры камеры\n",
    "\n",
    "**images** - путь к папке с изображениями для реконструкции\n",
    "\n",
    "**outputs** - путь к папке со всеми результатами\n",
    "\n",
    "**cache_init** - путь к кэш-файлу, его мы получаем во время того, когда делаем KA или BA. В этот файле хранятся featuremaps после  dense feature extraction. В среднем на одну картинку размером 2368х1952 уходит 3 минуты. Этот файл вообще нельзя трогать, поэтому мы копируем его в папку outputs для своего эксперимента и продолжаем работу.\n",
    "\n",
    "**cache_path** - тот же файл, что cache_init, с которым мы теперь будем работать во время эксперимента.\n",
    "\n",
    "**sfm_pairs** - файл с названиями пар изображений на каждой строке\n",
    "\n",
    "**features** - файл с features для каждой картинки, извлеченными при помощи feature_conf\n",
    "\n",
    "**matches** - файл с matches для каждой пары картинок, извлеченными при помощи matcher_conf"
   ]
  },
  {
   "cell_type": "code",
   "execution_count": null,
   "id": "7855b982",
   "metadata": {},
   "outputs": [],
   "source": [
    "root = Path('/workspace')\n",
    "\n",
    "images_init = root / f'datasets/sk3d/dataset/{object_name}/tis_right/rgb/images.txt'\n",
    "calibrated_images_init = root / 'datasets/sk3d/dataset/calibration/tis_right/rgb/images.txt' # менее точные\n",
    "\n",
    "cameras_init = root / 'datasets/sk3d/dataset/calibration/tis_right/rgb/cameras.txt'\n",
    "\n",
    "images = root / f'datasets/sk3d/dataset/{object_name}/tis_right/rgb/undistorted/ambient@best'\n",
    "\n",
    "outputs = root / f'pixel-perfect-sfm/outputs/{object_name}_exp1/'\n",
    "\n",
    "if delete_previous_output:\n",
    "    !rm -rf $outputs \n",
    "    \n",
    "outputs.mkdir(parents=True, exist_ok=True)    \n",
    "\n",
    "if has_cache:\n",
    "    cache_init = root / f'pixel-perfect-sfm/outputs/caches/{object_name}/s2dnet_featuremaps_sparse.h5'\n",
    "    !cp -r $cache_init $outputs\n",
    "    cache_path = outputs / 's2dnet_featuremaps_sparse.h5'\n",
    "\n",
    "sfm_pairs = outputs / 'pairs-sfm.txt'\n",
    "features = outputs / 'features.h5'\n",
    "matches = outputs / 'matches.h5'"
   ]
  },
  {
   "cell_type": "markdown",
   "id": "19831719",
   "metadata": {},
   "source": [
    "Ниже представлены некоторые виды возможных экспериментов, которые можно провести с различным количеством камер и параметрами для камер. Для каждого эксперимента существует своя булевая переменная, которая позволяет выбрать эксперимент.\n",
    "\n",
    "1) В папке **raw_single_cam** будет сохранена реконструкия, которая была создана при помощи одной камеры модели PINHOLE. Нет BA и KA, строиться так называемая сырая *реконструкция* при помощи **features**, **matches**, **sfm_pairs**.\n",
    "\n",
    "2) В папке **raw_dir_auto_cam** будет сохранена реконструкия, которая была создана при помощи нескольких камер модели PINHOLE (то есть для каждого изображения будет использоваться своя камера -> 100 изображений = 100 различных камер). Нет BA и KA, строиться так называемая сырая *реконструкция* при помощи **features**, **matches**, **sfm_pairs**.\n",
    "\n",
    "3) В папке **exp1_dir_single_cam** будет сохранена реконструкия, которая была создана при помощи одной камеры модели PINHOLE. Используется BA и KA (оба featuremetric). Строиться улучшенная (refined) *реконструкция* при помощи **features**, **matches**, **sfm_pairs**. Параметры камеры и их поза будет сгенерены аппаратом PixSfM.\n",
    "\n",
    "4) В папке **exp1_dir_auto_cam** будет сохранена реконструкия, которая была создана при помощи нескольких камер модели PINHOLE. Используется BA и KA (оба featuremetric). Строиться улучшенная (refined) *реконструкция* при помощи **features**, **matches**, **sfm_pairs**. Параметры камер и их позы будут сгенерены аппаратом PixSfM.\n",
    "\n",
    "5) В папке **exp1_dir_single_cam_with_params** будет сохранена реконструкия, которая была создана при помощи одной камеры модели PINHOLE. Используется BA и KA (оба featuremetric). Строиться улучшенная (refined) *реконструкция* при помощи **features**, **matches**, **sfm_pairs**. В данном конфиге мы используем GT параметры известной для нас камеры, при этом не изменяя внутренние параметры камеры, а меняя только экстринсики камеры. "
   ]
  },
  {
   "cell_type": "code",
   "execution_count": null,
   "id": "0d723c90",
   "metadata": {},
   "outputs": [],
   "source": [
    "run_raw_single = True\n",
    "run_raw_auto = False\n",
    "run_ref_single = False\n",
    "run_ref_auto = False\n",
    "run_ref_single_with_params = True\n",
    "\n",
    "if run_raw_single:\n",
    "    raw_dir_single_cam = outputs / \"raw_single_cam\"\n",
    "    raw_dir_single_cam.mkdir(parents=True, exist_ok=True)\n",
    "\n",
    "if run_raw_auto:    \n",
    "    raw_dir_auto_cam = outputs / \"raw_auto_cam\"\n",
    "    raw_dir_single_cam.mkdir(parents=True, exist_ok=True)\n",
    "\n",
    "if run_ref_auto:\n",
    "    exp1_dir_auto_cam = outputs / \"ref_exp1_auto_cam\"\n",
    "    exp1_dir_auto_cam.mkdir(parents=True, exist_ok=True)\n",
    "    \n",
    "if run_ref_single:\n",
    "    exp1_dir_single_cam = outputs / \"ref_exp1_single_cam\"\n",
    "    exp1_dir_single_cam.mkdir(parents=True, exist_ok=True)\n",
    "\n",
    "if run_ref_single_with_params:    \n",
    "    exp1_dir_single_cam_with_params = outputs / \"ref_exp1_single_cam_with_init_camera_params\"\n",
    "    exp1_dir_single_cam_with_params.mkdir(parents=True, exist_ok=True)"
   ]
  },
  {
   "cell_type": "markdown",
   "id": "5fb7e29d",
   "metadata": {},
   "source": [
    "# 3D mapping and refinement"
   ]
  },
  {
   "cell_type": "markdown",
   "id": "2d51b2d9",
   "metadata": {},
   "source": [
    "Здесь описаны возможности для настройки [**extract_features**](https://github.com/cvg/Hierarchical-Localization/blob/91f40bfd765add3b59ba7376f8579d8829f7fa78/hloc/extract_features.py#L21)\n",
    "\n",
    "Здесь описаны возможности для настройки [**match_features**](https://github.com/cvg/Hierarchical-Localization/blob/91f40bfd765add3b59ba7376f8579d8829f7fa78/hloc/match_features.py#L17)\n",
    "\n",
    "Здесь описан пайплайн того, как можно использовать свои кастомные [**local features**, **matcher**, **image retrieval**](https://github.com/cvg/Hierarchical-Localization/tree/91f40bfd765add3b59ba7376f8579d8829f7fa78#using-your-own-local-features-or-matcher).\n"
   ]
  },
  {
   "cell_type": "code",
   "execution_count": null,
   "id": "ba7eca44",
   "metadata": {},
   "outputs": [],
   "source": [
    "feature_conf = extract_features.confs['superpoint_aachen']\n",
    "matcher_conf = match_features.confs['superglue']"
   ]
  },
  {
   "cell_type": "markdown",
   "id": "ccb1cdad",
   "metadata": {},
   "source": [
    "Здесь мы проверяем какие изображения мы будем использовать для реконструкции."
   ]
  },
  {
   "cell_type": "code",
   "execution_count": null,
   "id": "f380d152",
   "metadata": {},
   "outputs": [],
   "source": [
    "references = [str(p.relative_to(images)) for p in images.iterdir()]\n",
    "print(len(references), \"mapping images\")\n",
    "plot_images([read_image(images / r) for r in references[:4]], dpi=50)"
   ]
  },
  {
   "cell_type": "markdown",
   "id": "d6f22479",
   "metadata": {},
   "source": [
    "**extract_features** - данная функция получает на вход *feature_conf*, *images* (путь к папке с изображениями), *image_list* (список тех изображений, которые вы хотите использовать для feature exctraction), *feature_path* (путь к файлу, где будет сохранен результат). На выходе получаем файл (**features**) с извлеченными features. Если **features** существует, то пропускается.\n",
    "\n",
    "**pairs_from_exhaustive** - данная функция получает на вход *sfm_pairs* (путь к файлу, где будет сохранен результат), *image_list* (список тех изображений, при помощи которых вы сделаете exhaustive pairs.) На выходе получаем файл (**sfm_pairs**) с парами изображений.  Если **sfm_pairs** существует, то пропускается.\n",
    "\n",
    "**match_features** - данная функция получает на вход *matcher_conf*, *sfm_pairs* (путь к файлу, где хранятся пары изображений после exhaustive pairing), *features* (путь к файлу, где хранятся извлеченный features для каждого изображения), *matches* (путь к файлу, где хранятся matches для каждой пары изображения). На выходе получаем файл (**matches**) с matches для каждой пары изображений . Если **match_features** существует, то пропускается.\n",
    "\n"
   ]
  },
  {
   "cell_type": "markdown",
   "id": "60300fcf",
   "metadata": {},
   "source": [
    "Ниже клетка может выполняться от получаса до часа (в зависимости от нагруженности).\n",
    "\n",
    "Features extraction - 1 минута.\n",
    "\n",
    "Features matching - 35-50 минут."
   ]
  },
  {
   "cell_type": "code",
   "execution_count": null,
   "id": "f0faf398",
   "metadata": {},
   "outputs": [],
   "source": [
    "!cp -r /workspace/pixel-perfect-sfm/outputs/dragon/features.h5 $outputs\n",
    "!cp -r /workspace/pixel-perfect-sfm/outputs/dragon/matches.h5 $outputs\n",
    "!cp -r /workspace/pixel-perfect-sfm/outputs/dragon/pairs-sfm.txt $outputs"
   ]
  },
  {
   "cell_type": "code",
   "execution_count": null,
   "id": "06de2fbe",
   "metadata": {},
   "outputs": [],
   "source": [
    "extract_features.main(feature_conf, images, image_list=references, feature_path=features) \n",
    "pairs_from_exhaustive.main(sfm_pairs, image_list=references)\n",
    "match_features.main(matcher_conf, sfm_pairs, features=features, matches=matches); "
   ]
  },
  {
   "cell_type": "markdown",
   "id": "5b93c97a",
   "metadata": {},
   "source": [
    "В папке **raw_dir_auto_cam** будет сохранена реконструкия, которая была создана при помощи нескольких камер модели PINHOLE (то есть для каждого изображения будет использоваться своя камера -> 100 изображений = 100 различных камер). Нет BA и KA, строиться так называемая сырая *реконструкция* при помощи **features**, **matches**, **sfm_pairs**.\n",
    "\n",
    "Ниже клетка работает примерно 5-6 минут для 100 картинок."
   ]
  },
  {
   "cell_type": "code",
   "execution_count": null,
   "id": "db759be4",
   "metadata": {},
   "outputs": [],
   "source": [
    "if run_raw_auto:\n",
    "    \n",
    "    conf = {\"KA\":{\"apply\": False}, \"BA\": {\"apply\": False}}\n",
    "    \n",
    "    opts = dict(camera_model='PINHOLE')\n",
    "    hloc_args = dict(camera_mode=pycolmap.CameraMode.AUTO,\n",
    "                     verbose=True,  # включены подробные логи\n",
    "                     image_options=opts)\n",
    "\n",
    "    raw_sfm = PixSfM(conf=conf)\n",
    "    \n",
    "    raw_auto, _ = raw_sfm.reconstruction(raw_dir_auto_cam, \n",
    "                                    images, \n",
    "                                    sfm_pairs, \n",
    "                                    features, \n",
    "                                    matches, \n",
    "                                    image_list=references,\n",
    "                                    **hloc_args)\n",
    "    print(raw_auto.summary())\n",
    "\n",
    "    !mkdir -p $raw_dir_auto_cam/hloc/model_txt/\n",
    "    \n",
    "    !colmap model_converter \\\n",
    "        --input_path $raw_dir_auto_cam/hloc \\\n",
    "        --output_path $raw_dir_auto_cam/hloc/model_txt/ \\\n",
    "        --output_type TXT"
   ]
  },
  {
   "cell_type": "markdown",
   "id": "94d8d127",
   "metadata": {},
   "source": [
    "В папке **raw_single_cam** будет сохранена реконструкия, которая была создана при помощи одной камеры модели PINHOLE. Нет BA и KA, строиться так называемая сырая *реконструкция* при помощи **features**, **matches**, **sfm_pairs**.\n",
    "\n",
    "Ниже клетка работает примерно 5-6 минут для 100 картинок."
   ]
  },
  {
   "cell_type": "code",
   "execution_count": null,
   "id": "599a3c2e",
   "metadata": {},
   "outputs": [],
   "source": [
    "if run_raw_single:\n",
    "    \n",
    "    conf = {\"KA\":{\"apply\": False},  \"BA\": {\"apply\": False}}\n",
    "    \n",
    "    opts = dict(camera_model='PINHOLE')\n",
    "    hloc_args = dict(camera_mode=pycolmap.CameraMode.SINGLE,\n",
    "                     verbose=True,\n",
    "                     image_options=opts)\n",
    "    \n",
    "    raw_sfm = PixSfM(conf=conf)\n",
    "\n",
    "    raw_single, _ = raw_sfm.reconstruction(raw_dir_single_cam, \n",
    "                                    images, \n",
    "                                    sfm_pairs, \n",
    "                                    features, \n",
    "                                    matches, \n",
    "                                    image_list=references,\n",
    "                                    **hloc_args)\n",
    "    print(raw_single.summary())\n",
    "\n",
    "    !mkdir -p $raw_dir_single_cam/hloc/model_txt/\n",
    "\n",
    "    !colmap model_converter \\\n",
    "        --input_path $raw_dir_single_cam/hloc \\\n",
    "        --output_path $raw_dir_single_cam/hloc/model_txt/ \\\n",
    "        --output_type TXT"
   ]
  },
  {
   "cell_type": "markdown",
   "id": "1581cc7c",
   "metadata": {},
   "source": [
    "В папке **exp1_dir_single_cam** будет сохранена реконструкия, которая была создана при помощи одной камеры модели PINHOLE. Используется BA и KA (оба featuremetric). Строиться улучшенная (refined) *реконструкция* при помощи **features**, **matches**, **sfm_pairs**. Создание СNN features - 5 часов для 100 картинок (3 минуты в среднем на 1 картинку размером 2368х1952).\n",
    "\n",
    "Ниже клетка работает примерно 8-10 минут для 100 картинок."
   ]
  },
  {
   "cell_type": "code",
   "execution_count": null,
   "id": "6ea9442f",
   "metadata": {},
   "outputs": [],
   "source": [
    "if run_ref_single:\n",
    "    \n",
    "    opts = dict(camera_model='PINHOLE')\n",
    "    hloc_args = dict(\n",
    "                    camera_mode=pycolmap.CameraMode.SINGLE,\n",
    "                    verbose=True,\n",
    "                    image_options=opts)\n",
    "    \n",
    "    conf = {\n",
    "            \"dense_features\": {\n",
    "                    \"use_cache\": True,\n",
    "            },\n",
    "             \"KA\": {\n",
    "                    \"dense_features\": {'use_cache': True}, \n",
    "                    \"split_in_subproblems\": True,\n",
    "                    \"max_kps_per_problem\": 1000,  \n",
    "                },\n",
    "\n",
    "            \"BA\": { \n",
    "                \"apply\": True\n",
    "                }\n",
    "            }\n",
    "    \n",
    "    if has_cache == False:\n",
    "        conf.update({\n",
    "            \"dense_features\": {\n",
    "                \"use_cache\": True,\n",
    "                \"sparse\" : True,\n",
    "                \"dtype\" : \"half\",\n",
    "                \"overwrite_cache\": True,\n",
    "                \"load_cache_on_init\": False,\n",
    "                \"patch_size\": 8,\n",
    "                \"cache_format\": \"chunked\"\n",
    "            }\n",
    "            \n",
    "        })\n",
    "        \n",
    "    sfm = PixSfM(conf)\n",
    "    refined1_single, sfm_outputs = sfm.reconstruction(exp1_dir_single_cam, \n",
    "                                          images, \n",
    "                                          sfm_pairs, \n",
    "                                          features, \n",
    "                                          matches, \n",
    "                                          image_list=references, \n",
    "                                          cache_path=cache_path,\n",
    "                                          **hloc_args)\n",
    "    print(refined1_single.summary())\n",
    "    \n",
    "    if not has_cache:    \n",
    "        caches = root / f'pixel-perfect-sfm/outputs/caches/exp1/{object_name}'\n",
    "        caches.mkdir(parents=True, exist_ok=True)\n",
    "        cache_path = outputs / 's2dnet_featuremaps_sparse.h5'\n",
    "        !cp -r $cache_path $caches   \n",
    "        \n",
    "    !mkdir -p $exp1_dir_single_cam/hloc/model_txt/\n",
    "\n",
    "    !colmap model_converter \\\n",
    "        --input_path $exp1_dir_single_cam/hloc \\\n",
    "        --output_path $exp1_dir_single_cam/hloc/model_txt/ \\\n",
    "        --output_type TXT    "
   ]
  },
  {
   "cell_type": "markdown",
   "id": "048224bb",
   "metadata": {},
   "source": [
    "В папке **exp1_dir_auto_cam** будет сохранена реконструкия, которая была создана при помощи нескольких камер модели PINHOLE. Используется BA и KA (оба featuremetric). Строиться улучшенная (refined) *реконструкция* при помощи **features**, **matches**, **sfm_pairs**. Создание СNN features - 5 часов для 100 картинок (3 минуты в среднем на 1 картинку размером 2368х1952)\n",
    "\n",
    "Ниже клетка работает примерно 9-11 минут для 100 картинок."
   ]
  },
  {
   "cell_type": "code",
   "execution_count": null,
   "id": "0386ccfa",
   "metadata": {},
   "outputs": [],
   "source": [
    "if run_ref_auto: \n",
    "\n",
    "    conf = {\n",
    "            \"dense_features\": {\n",
    "                    \"use_cache\": True,\n",
    "            },\n",
    "             \"KA\": {\n",
    "                    \"dense_features\": {'use_cache': True}, \n",
    "                    \"split_in_subproblems\": True,\n",
    "                    \"max_kps_per_problem\": 1000,  \n",
    "                },\n",
    "\n",
    "            \"BA\": { \n",
    "                \"apply\": True\n",
    "            }\n",
    "    }\n",
    "    \n",
    "    if has_cache == False:\n",
    "        conf.update({\n",
    "            \"dense_features\": {\n",
    "                \"use_cache\": True,\n",
    "                \"sparse\" : True,\n",
    "                \"dtype\" : \"half\",\n",
    "                \"overwrite_cache\": True,\n",
    "                \"load_cache_on_init\": False,\n",
    "                \"patch_size\": 8,\n",
    "                \"cache_format\": \"chunked\"\n",
    "            }\n",
    "            \n",
    "        })\n",
    "    \n",
    "    opts = dict(camera_model='PINHOLE')\n",
    "\n",
    "    hloc_args = dict(verbose=True,\n",
    "                    image_options=opts)\n",
    "    \n",
    "    sfm = PixSfM(conf)\n",
    "    \n",
    "    if has_cache == False:\n",
    "        refined1_auto, sfm_outputs = sfm.reconstruction(exp1_dir_auto_cam, \n",
    "                                              images, \n",
    "                                              sfm_pairs, \n",
    "                                              features, \n",
    "                                              matches, \n",
    "                                              image_list=references,\n",
    "                                              **hloc_args)\n",
    "    else:\n",
    "        refined1_auto, sfm_outputs = sfm.reconstruction(exp1_dir_auto_cam, \n",
    "                                              images, \n",
    "                                              sfm_pairs, \n",
    "                                              features, \n",
    "                                              matches, \n",
    "                                              image_list=references,\n",
    "                                              cache_path=cache_path,\n",
    "                                              **hloc_args)\n",
    "\n",
    "    print(refined1_auto.summary())\n",
    "    \n",
    "    if not has_cache:    \n",
    "        caches = root / f'pixel-perfect-sfm/outputs/caches/exp1/{object_name}'\n",
    "        caches.mkdir(parents=True, exist_ok=True)\n",
    "        cache_path = outputs / 's2dnet_featuremaps_sparse.h5'\n",
    "        !cp -r $cache_path $caches  \n",
    "\n",
    "    !mkdir -p $exp1_dir_auto_cam/hloc/model_txt/\n",
    "\n",
    "    !colmap model_converter \\\n",
    "        --input_path $exp1_dir_auto_cam/hloc \\\n",
    "        --output_path $exp1_dir_auto_cam/hloc/model_txt/ \\\n",
    "        --output_type TXT"
   ]
  },
  {
   "cell_type": "markdown",
   "id": "fcb9f869",
   "metadata": {},
   "source": [
    "В папке **exp1_dir_single_cam_with_params** будет сохранена реконструкия, которая была создана при помощи одной камеры модели PINHOLE. Используется BA и KA (оба featuremetric). Строиться улучшенная (refined) *реконструкция* при помощи **features**, **matches**, **sfm_pairs**. В данном конфиге мы используем GT параметры известной для нас камеры, при этом не изменяя внутренние параметры камеры, а меняя только экстринсики камеры. Создание СNN features - 5 часов для 100 картинок (3 минуты в среднем на 1 картинку размером 2368х1952).\n",
    "\n",
    "Ниже клетка работает примерно 10 минут для 100 картинок."
   ]
  },
  {
   "cell_type": "code",
   "execution_count": null,
   "id": "2b9a545f",
   "metadata": {},
   "outputs": [],
   "source": [
    "if run_ref_single_with_params:\n",
    "    conf = {\n",
    "            \"dense_features\": {\n",
    "                    \"use_cache\": True,\n",
    "            },\n",
    "             \"KA\": {\n",
    "                    \"dense_features\": {'use_cache': True}, \n",
    "                    \"split_in_subproblems\": True,\n",
    "                    \"max_kps_per_problem\": 1000,  \n",
    "                },\n",
    "\n",
    "            \"BA\": { \n",
    "                \"apply\": True,\n",
    "                \"optimizer\": {\n",
    "                      \"refine_focal_length\": False,  # whether to optimize the focal length\n",
    "                      \"refine_principal_point\": False,  # whether to optimize the principal points\n",
    "                      \"refine_extra_params\": False,  # whether to optimize distortion parameters\n",
    "                      \"refine_extrinsics\": True,  # whether to optimize the camera poses\n",
    "                }\n",
    "            }\n",
    "    }\n",
    "    \n",
    "    if has_cache == False:\n",
    "        conf.update({\n",
    "            \"dense_features\": {\n",
    "                \"use_cache\": True,\n",
    "                \"sparse\" : True,\n",
    "                \"dtype\" : \"half\",\n",
    "                \"overwrite_cache\": True,\n",
    "                \"load_cache_on_init\": False,\n",
    "                \"patch_size\": 8,\n",
    "                \"cache_format\": \"chunked\"\n",
    "            }\n",
    "            \n",
    "        })\n",
    "\n",
    "    _cams = read_cameras_text(str(cameras_init))\n",
    "    f, cx, cy, k = _cams[0].params\n",
    "\n",
    "    opts = dict(camera_model='PINHOLE', camera_params=','.join(map(str, (f, cx, cy, k))))\n",
    "\n",
    "    hloc_args = dict(camera_mode=pycolmap.CameraMode.SINGLE,\n",
    "                    verbose=True,\n",
    "                    image_options=opts)\n",
    "    \n",
    "    sfm = PixSfM(conf)\n",
    "    \n",
    "    if has_cache == False:\n",
    "        refined1_single_params, sfm_outputs = sfm.reconstruction(exp1_dir_single_cam_with_params, \n",
    "                                              images, \n",
    "                                              sfm_pairs, \n",
    "                                              features, \n",
    "                                              matches, \n",
    "                                              image_list=references, \n",
    "                                              **hloc_args)\n",
    "    else:\n",
    "        refined1_single_params, sfm_outputs = sfm.reconstruction(exp1_dir_single_cam_with_params, \n",
    "                                              images, \n",
    "                                              sfm_pairs, \n",
    "                                              features, \n",
    "                                              matches, \n",
    "                                              image_list=references, \n",
    "                                              cache_path=cache_path,\n",
    "                                              **hloc_args)\n",
    "    \n",
    "    print(refined1_single_params.summary())\n",
    "    \n",
    "    if not has_cache:    \n",
    "        caches = root / f'pixel-perfect-sfm/outputs/caches/exp1/{object_name}'\n",
    "        caches.mkdir(parents=True, exist_ok=True)\n",
    "        cache_path = outputs / 's2dnet_featuremaps_sparse.h5'\n",
    "        !cp -r $cache_path $caches  \n",
    "    \n",
    "    !mkdir -p $exp1_dir_single_cam_with_params/hloc/model_txt/\n",
    "\n",
    "    !colmap model_converter \\\n",
    "        --input_path $exp1_dir_single_cam_with_params/hloc \\\n",
    "        --output_path $exp1_dir_single_cam_with_params/hloc/model_txt/ \\\n",
    "        --output_type TXT"
   ]
  },
  {
   "cell_type": "markdown",
   "id": "4016b5ba",
   "metadata": {},
   "source": [
    "# Visualization"
   ]
  },
  {
   "cell_type": "markdown",
   "id": "bff9db2a",
   "metadata": {},
   "source": [
    "Ниже сохранены все модели наших экспериментов. Мы их записали для того, чтобы Вы могли выбрать какую именно реконструкцию визуализировать при помощи plotly."
   ]
  },
  {
   "cell_type": "code",
   "execution_count": null,
   "id": "c8d6aacf",
   "metadata": {},
   "outputs": [],
   "source": [
    "refined_dict = {\n",
    "    \"raw_single\": raw_single if run_raw_single else None,\n",
    "    \"raw_auto\": raw_auto if run_raw_auto else None,\n",
    "    \"ref_single\": refined1_single if run_ref_single else None,\n",
    "    \"ref_single_with_params\": refined1_single_params if run_ref_single_with_params else None,\n",
    "    \"ref_auto\": refined1_auto if run_ref_auto else None, \n",
    "}"
   ]
  },
  {
   "cell_type": "markdown",
   "id": "74eff322",
   "metadata": {},
   "source": [
    "Здесь мы сравниваем две реконструкции: сырую и улучшенную. Сравниваются положение камер, 3d pointclouds и local features на каком-то изображении."
   ]
  },
  {
   "cell_type": "code",
   "execution_count": null,
   "id": "df38301c",
   "metadata": {},
   "outputs": [],
   "source": [
    "fig3d = init_figure()\n",
    "\n",
    "args = dict(max_reproj_error=3.0, min_track_length=2, cs=1)\n",
    "plot_reconstruction(fig3d, refined_dict['raw_single'], \n",
    "                    color='rgba(255, 0, 0, 0.5)', \n",
    "                    name=\"raw\", **args)\n",
    "plot_reconstruction(fig3d, refined_dict['ref_single_with_params'], \n",
    "                    color='rgba(0, 255, 0, 0.5)', \n",
    "                    name=\"refined\", **args)\n",
    "if show_visualization:\n",
    "    fig3d.show()"
   ]
  },
  {
   "cell_type": "code",
   "execution_count": null,
   "id": "84c903cd",
   "metadata": {},
   "outputs": [],
   "source": [
    "refined = refined_dict['ref_single_with_params']\n",
    "\n",
    "img = refined.images[refined.reg_image_ids()[0]]\n",
    "cam = refined.cameras[img.camera_id]\n",
    "\n",
    "fig = init_image(images / img.name)    \n",
    "\n",
    "plot_points2D(fig, [p2D.xy for p2D in img.points2D if p2D.has_point3D()])\n",
    "plot_points2D(fig, cam.world_to_image(img.project(refined)), color='rgba(255, 0, 0, 0.5)')\n",
    "\n",
    "if show_visualization:\n",
    "    fig.show()"
   ]
  }
 ],
 "metadata": {
  "kernelspec": {
   "display_name": "Python 3 (ipykernel)",
   "language": "python",
   "name": "python3"
  },
  "language_info": {
   "codemirror_mode": {
    "name": "ipython",
    "version": 3
   },
   "file_extension": ".py",
   "mimetype": "text/x-python",
   "name": "python",
   "nbconvert_exporter": "python",
   "pygments_lexer": "ipython3",
   "version": "3.8.10"
  }
 },
 "nbformat": 4,
 "nbformat_minor": 5
}
