{
 "cells": [
  {
   "cell_type": "markdown",
   "id": "10b1a67a",
   "metadata": {},
   "source": [
    "## THIRD EXPERIMENT"
   ]
  },
  {
   "cell_type": "markdown",
   "id": "4ab02afb",
   "metadata": {},
   "source": [
    "Для третьего эксперимента был использован следующий подход: у нас есть готовая SfM (которую мы получили из 2го эксперимента), при помощи которой мы хотим создать новую SfM с заменой 3д точек. 3D точки были взяты из GT-меша.  Рядом с GT-мешом расположили облако от реконструкции и уронили точки из облака на меш по направлению нормалей меша (ray-casting)."
   ]
  },
  {
   "cell_type": "markdown",
   "id": "dff5615e",
   "metadata": {},
   "source": [
    "# Libraries"
   ]
  },
  {
   "cell_type": "code",
   "execution_count": null,
   "id": "1e5310bc",
   "metadata": {},
   "outputs": [],
   "source": [
    "%load_ext autoreload\n",
    "%autoreload 2\n",
    "import tqdm, tqdm.notebook\n",
    "tqdm.tqdm = tqdm.notebook.tqdm  # notebook-friendly progress bars\n",
    "\n",
    "from pathlib import Path\n",
    "import pycolmap\n",
    "import sys\n",
    "\n",
    "sys.path.append(\"/workspace/pixel-perfect-sfm/\")\n",
    "sys.path.append(\"/workspace/pixel-perfect-sfm/Hierarchical-Localization\")\n",
    "\n",
    "from hloc import extract_features, match_features, reconstruction, pairs_from_exhaustive, visualization\n",
    "from hloc.visualization import plot_images, read_image\n",
    "from hloc.utils.viz_3d import init_figure, plot_points, plot_reconstruction, plot_camera_colmap\n",
    "from hloc.utils.read_write_model import  write_next_bytes, Point3D, Image, read_images_text, read_points3D_binary,\\\n",
    "        write_points3D_binary, write_images_binary, read_images_binary, read_cameras_text, read_points3D_text, \\\n",
    "        write_points3D_text, write_images_text\n",
    "\n",
    "from pixsfm.util.visualize import init_image, plot_points2D\n",
    "from pixsfm.refine_hloc import PixSfM\n",
    "from pixsfm import ostream_redirect\n",
    "\n",
    "import numpy as np\n",
    "from matplotlib import pyplot as plt\n",
    "\n",
    "import open3d as o3d\n",
    "assert o3d.__version__ == '0.15.2', 'The version 0.15.2 is required!'\n",
    "\n",
    "# redirect the C++ outputs to notebook cells\n",
    "cpp_out = ostream_redirect(stderr=True, stdout=True)\n",
    "cpp_out.__enter__()"
   ]
  },
  {
   "cell_type": "markdown",
   "id": "e9040e7e",
   "metadata": {},
   "source": [
    "# Setup\n",
    "\n",
    "В **object_name** необходимо задать имя объекта, над которым вы хотите провести эксперимент.\n",
    "\n",
    "**check_for_calibrated_images** - булевая переменная, по которой мы выбираем какие поз камер использовать (менее точные (True) или точные (False))\n",
    "\n",
    "**delete_previous_output** - если True, то удаляет все предыдущие файлы в папке outputs. Использовать супер осторожно.\n",
    "\n",
    "**has_cache** - если True, то у Вас уже существует файл с feature maps и он сохранен в папке cache_init. Это файл с feature maps Вы получаете только тогда, когда вы уже сделали featuremetric KA или BA для одного из ваших экспериментов.\n",
    "\n",
    "**show_visualization** - если True, то показывает визуализацию результата эксперимента (3d pointcloud, задектированные keypoints (features) и final reprojections для какого-то изображения)."
   ]
  },
  {
   "cell_type": "code",
   "execution_count": null,
   "id": "6ea342bf",
   "metadata": {},
   "outputs": [],
   "source": [
    "object_name = 'dragon'\n",
    "\n",
    "check_for_calibrated_images = False\n",
    "delete_previous_output = False\n",
    "\n",
    "has_cache = True\n",
    "show_visualization = False"
   ]
  },
  {
   "cell_type": "markdown",
   "id": "99164630",
   "metadata": {},
   "source": [
    "**images_init** - путь к файлу images.txt с известными позами камер (каждая вторая строка пустая)\n",
    "\n",
    "**calibrated_images_init** - путь к файлу images.txt c известнами позами камер (но менее точные)\n",
    "\n",
    "**cameras_init** - путь к файлу cameras.txt\n",
    "\n",
    "**gt_init** - путь к GT-мешу\n",
    "\n",
    "**images** - путь к папке с изображениями для реконструкции\n",
    "\n",
    "**outputs** - путь к папке со всеми результатами\n",
    "\n",
    "**cache_init** - путь к кэш-файлу, его мы получаем во время того, когда делаем KA или BA. В этот файле хранятся featuremaps после dense feature extraction. В среднем на одну картинку размером 2368х1952 уходит 3 минуты. Этот файл вообще нельзя трогать, поэтому мы копируем его в папку outputs для своего эксперимента и продолжаем работу.\n",
    "\n",
    "**cache_path** - тот же файл, что cache_init, с которым мы теперь будем работать во время эксперимента."
   ]
  },
  {
   "cell_type": "code",
   "execution_count": null,
   "id": "9df3c207",
   "metadata": {},
   "outputs": [],
   "source": [
    "root = Path('/workspace')\n",
    "\n",
    "images_init = root / f'datasets/sk3d/dataset/{object_name}/tis_right/rgb/images.txt'\n",
    "calibrated_images_init = root / 'datasets/sk3d/dataset/calibration/tis_right/rgb/images.txt' # менее точные\n",
    "\n",
    "cameras_init = root / 'datasets/sk3d/dataset/calibration/tis_right/rgb/cameras.txt'\n",
    "gt_init = root / f'datasets/sk3d/dataset/{object_name}/stl/reconstruction/cleaned.ply'\n",
    "\n",
    "# all images for our object\n",
    "images = root / f'datasets/sk3d/dataset/{object_name}/tis_right/rgb/undistorted/ambient@best'\n",
    "\n",
    "# where all result data will be stored\n",
    "outputs = root / f'pixel-perfect-sfm/outputs/{object_name}_exp3/'\n",
    "\n",
    "if delete_previous_output:\n",
    "    !rm -rf $outputs \n",
    "    \n",
    "outputs.mkdir(parents=True, exist_ok=True)    \n",
    "    \n",
    "if has_cache:\n",
    "    cache_init = root / f'pixel-perfect-sfm/outputs/caches/{object_name}/s2dnet_featuremaps_sparse.h5'\n",
    "    !cp -r $cache_init $outputs\n",
    "    cache_path = outputs / 's2dnet_featuremaps_sparse.h5'"
   ]
  },
  {
   "cell_type": "markdown",
   "id": "e64c3f0c",
   "metadata": {},
   "source": [
    "**sfm_dir** - папка, в которой хранится реконструкция из второго эксперимента. \n",
    "\n",
    "**exp3_dir** - папка, в которой будет сохранен результат третьего эксперимента."
   ]
  },
  {
   "cell_type": "code",
   "execution_count": null,
   "id": "1e18ce7a",
   "metadata": {},
   "outputs": [],
   "source": [
    "sfm_dir = outputs / \"sfm\"\n",
    "sfm_dir.mkdir(parents=True, exist_ok=True)\n",
    "\n",
    "exp3_dir = outputs / \"exp3\"\n",
    "exp3_dir.mkdir(parents=True, exist_ok=True)\n",
    "\n",
    "\n",
    "if check_for_calibrated_images:\n",
    "    images_init = calibrated_images_init\n",
    "\n",
    "    exp3_dir = outputs / \"calibrated/exp3\"\n",
    "    exp3_dir.mkdir(parents=True, exist_ok=True)"
   ]
  },
  {
   "cell_type": "code",
   "execution_count": null,
   "id": "fb9c4e15",
   "metadata": {},
   "outputs": [],
   "source": [
    "!cp -r /workspace/pixel-perfect-sfm/outputs/dragon/ref_exp2/hloc/model/model_txt/*  \\\n",
    "            $sfm_dir"
   ]
  },
  {
   "cell_type": "markdown",
   "id": "b7e2c9af",
   "metadata": {},
   "source": [
    "Смотрим саммэри для готовой реконструкции."
   ]
  },
  {
   "cell_type": "code",
   "execution_count": null,
   "id": "ce5d6897",
   "metadata": {},
   "outputs": [],
   "source": [
    "sfm_reconstructiom = pycolmap.Reconstruction(sfm_dir)\n",
    "print(\"Reconstruction from second experiment: \", sfm_reconstructiom.summary())"
   ]
  },
  {
   "cell_type": "code",
   "execution_count": null,
   "id": "2f924e93",
   "metadata": {},
   "outputs": [],
   "source": [
    "# get 3d points from our reconstruction\n",
    "ref_3d_points = {}\n",
    "\n",
    "# ref_3d_points - dict with keys of points_id and values as points\n",
    "for point3D_id, point3D in sfm_reconstructiom.points3D.items():\n",
    "    ref_3d_points.update({point3D_id: list(point3D.xyz)})"
   ]
  },
  {
   "cell_type": "code",
   "execution_count": null,
   "id": "fff88903",
   "metadata": {},
   "outputs": [],
   "source": [
    "# Code to find distance between points and mesh 'path_to_reference_mesh'\n",
    "vert = list(ref_3d_points.values())\n",
    "\n",
    "rec = o3d.io.read_triangle_mesh(str(gt_init))\n",
    "rec.compute_vertex_normals()\n",
    "\n",
    "raycasting =  o3d.t.geometry.RaycastingScene()\n",
    "rec = o3d.t.geometry.TriangleMesh.from_legacy(rec)\n",
    "raycasting.add_triangles(rec)\n",
    "\n",
    "# pts has shape [pts_n, 3]\n",
    "pts = o3d.core.Tensor(vert, dtype=o3d.core.Dtype.Float32)\n",
    "ans = raycasting.compute_closest_points(pts)\n",
    "closest_pts = raycasting.compute_closest_points(pts)['points'].numpy()\n",
    "\n",
    "print('The closest point on the surface is', closest_pts)\n",
    "print('Number of points ',  len(closest_pts))\n",
    "dist = np.linalg.norm(closest_pts - pts.numpy(), axis=1)\n",
    "print('Distance between points and mesh ', dist)"
   ]
  },
  {
   "cell_type": "markdown",
   "id": "ba4a61dd",
   "metadata": {},
   "source": [
    "Здесь нужно установить определенный threshold. Мы будем вычислять расстояние между точками и GT-мешом. Если расстояние меньше чем установленный threshold, то эти точки оставляем и записываем в БД, иначе удаляем точки и из меша и в БД. В ланном случае мы выбрали threshold 9 см."
   ]
  },
  {
   "cell_type": "code",
   "execution_count": null,
   "id": "5323c6a3",
   "metadata": {},
   "outputs": [],
   "source": [
    "thresh = 0.09"
   ]
  },
  {
   "cell_type": "code",
   "execution_count": null,
   "id": "0dcefea6",
   "metadata": {},
   "outputs": [],
   "source": [
    "dist_1, dist_2 = [], []\n",
    "\n",
    "pts_all = []\n",
    "pts_out_range = []\n",
    "pts_in_range = []\n",
    "\n",
    "# vert - vertices from second reconstruction\n",
    "# pts - corresponding closest points for vert\n",
    "\n",
    "for i in range(len(vert)):\n",
    "    dist = np.linalg.norm(closest_pts[i] - pts[i]).numpy()\n",
    "    dist_1.append(dist)\n",
    "    pts_all.append(pts[i].numpy())\n",
    "    if 0 < dist < thresh:\n",
    "        pts_all[i] = closest_pts[i]\n",
    "        pts_in_range.append(closest_pts[i])\n",
    "        \n",
    "        new_dist = np.linalg.norm(pts_all[i] - pts[i]).numpy()\n",
    "        dist_2.append(new_dist)\n",
    "    else:\n",
    "        pts_out_range.append(pts[i].numpy())\n",
    "        dist_2.append(thresh)\n",
    "        \n",
    "\n",
    "plt.plot(dist_1, color='red')\n",
    "plt.plot(dist_2, color='green')\n",
    "plt.show()  "
   ]
  },
  {
   "cell_type": "markdown",
   "id": "abfd9f9e",
   "metadata": {},
   "source": [
    "Создаем два множества точек: 1) внутри threshold и мы их оставляем   2) за пределами threshold и мы их удаляем. "
   ]
  },
  {
   "cell_type": "code",
   "execution_count": null,
   "id": "fbe26bc3",
   "metadata": {},
   "outputs": [],
   "source": [
    "points3d_in = {}\n",
    "points3d_out = {}\n",
    "\n",
    "for point3D_id, point3D in sfm_reconstructiom.points3D.items():\n",
    "\n",
    "    query_point = [list(point3D.xyz)]\n",
    "    pts = o3d.core.Tensor(query_point, dtype=o3d.core.Dtype.Float32)\n",
    "    ans = raycasting.compute_closest_points(pts)\n",
    "    closest_pts = raycasting.compute_closest_points(pts)['points'].numpy()\n",
    "    dist = np.linalg.norm(closest_pts - pts.numpy(), axis=1)\n",
    "    \n",
    "    if 0 < dist < thresh:\n",
    "        points3d_in.update({point3D_id: closest_pts.ravel()})\n",
    "    else:\n",
    "        points3d_out.update({point3D_id: point3D.xyz.astype(np.float32)})"
   ]
  },
  {
   "cell_type": "markdown",
   "id": "3e650767",
   "metadata": {},
   "source": [
    "Создаем файл point3D.txt"
   ]
  },
  {
   "cell_type": "code",
   "execution_count": null,
   "id": "3f493e31",
   "metadata": {},
   "outputs": [],
   "source": [
    "# getting ground truth points from second reconstruction\n",
    "\n",
    "#gt_points = read_points3D_binary( sfm_dir / 'points3D.bin')\n",
    "gt_points = read_points3D_text(sfm_dir / 'points3D.txt')\n",
    "\n",
    "points3D = {}\n",
    "\n",
    "# updating gt_points\n",
    "for key, value in points3d_in.items():\n",
    "    if (gt_points[key].xyz != value).all():\n",
    "        point3D_id = gt_points[key].id\n",
    "        \n",
    "        # putting new value here\n",
    "        xyz = value \n",
    "        rgb = gt_points[key].rgb\n",
    "        error = gt_points[key].error\n",
    "        image_ids_ = gt_points[key].image_ids\n",
    "        point2D_idxs = gt_points[key].point2D_idxs\n",
    "        points3D[point3D_id] = Point3D(id=point3D_id, \n",
    "                                       xyz=xyz, \n",
    "                                       rgb=rgb,\n",
    "                                       error=error, \n",
    "                                       image_ids=image_ids_,\n",
    "                                       point2D_idxs=point2D_idxs)\n",
    "\n",
    "\n",
    "# write_points3D_binary(points3D, exp3_dir / 'points3D.bin')    \n",
    "write_points3D_text(points3D, exp3_dir / 'points3D.txt')  "
   ]
  },
  {
   "cell_type": "markdown",
   "id": "a2a58910",
   "metadata": {},
   "source": [
    "Создаем файл images.txt"
   ]
  },
  {
   "cell_type": "code",
   "execution_count": null,
   "id": "2c6e33c5",
   "metadata": {},
   "outputs": [],
   "source": [
    "#images_dict = read_images_binary( sfm_dir / 'images.bin')\n",
    "images_dict = read_images_text( sfm_dir / 'images.txt')\n",
    "\n",
    "updated_images_dict = {}\n",
    "\n",
    "\n",
    "pts_to_delete = points3d_out.keys()\n",
    "\n",
    "#updating images dictionary\n",
    "for k, value in images_dict.items():\n",
    "    new_point3D_ids = []\n",
    "    image_id = k\n",
    "    qvec = value.qvec\n",
    "    tvec = value.tvec\n",
    "    camera_id = value.camera_id\n",
    "    name = value.name\n",
    "    xys = value.xys\n",
    "      \n",
    "    # we need to put -1 for images.txt, because we will not have these points anymore    \n",
    "    for _id in value.point3D_ids:\n",
    "        if _id in pts_to_delete:\n",
    "            new_point3D_ids.append(-1)\n",
    "        else:\n",
    "            new_point3D_ids.append(_id)\n",
    "\n",
    "    updated_images_dict[image_id] = Image(\n",
    "                id=image_id, \n",
    "                qvec=qvec, tvec=tvec,\n",
    "                camera_id=camera_id, \n",
    "                name=name,\n",
    "                xys=xys, \n",
    "                point3D_ids=np.array(new_point3D_ids))\n",
    "\n",
    "# write_images_binary(updated_images_dict, exp3_dir / 'images.bin')    \n",
    "write_images_text(updated_images_dict, exp3_dir / 'images.txt')    "
   ]
  },
  {
   "cell_type": "markdown",
   "id": "43256c10",
   "metadata": {},
   "source": [
    "Копируем cameras.txt из предыдущего эксперимента."
   ]
  },
  {
   "cell_type": "code",
   "execution_count": null,
   "id": "41241d69",
   "metadata": {},
   "outputs": [],
   "source": [
    "!cp -r $sfm_dir/cameras.txt $exp3_dir"
   ]
  },
  {
   "cell_type": "markdown",
   "id": "adb0ba25",
   "metadata": {},
   "source": [
    "**Featuremetric BA (Bundle Adjustment)**\n",
    "\n",
    "В конфиге conf_BA расписана необходимая информация для того, чтобы сделать BA. В этом конфиге также указано, что вы хотите использовать cache, который находится в пути cache_path.\n",
    "\n",
    "Здесь описано как настроить конфигурацию для ВА. https://github.com/cvg/pixel-perfect-sfm#detailed-configuration\n",
    "\n",
    "\n",
    " Ниже клетка выполняется за 1.5-2 минуты."
   ]
  },
  {
   "cell_type": "code",
   "execution_count": null,
   "id": "88946e50",
   "metadata": {},
   "outputs": [],
   "source": [
    "from pixsfm.refine_colmap import PixSfM\n",
    "\n",
    "conf_BA = {\n",
    "        \"dense_features\": {\n",
    "                \"use_cache\": True,\n",
    "        },\n",
    "        \n",
    "        \"BA\": {\n",
    "            \"dense_features\": {'use_cache': True}, \n",
    "            \"apply\": True\n",
    "        }\n",
    "}\n",
    "\n",
    "refiner = PixSfM(conf=conf_BA)\n",
    "reconstruction, ba_data, feature_manager = refiner.refine_reconstruction(\n",
    "    output_path = exp3_dir / f'thresh_{thresh}',\n",
    "    input_path = exp3_dir,\n",
    "    image_dir = images,\n",
    "    cache_path = cache_path,\n",
    ")\n",
    "\n",
    "print(reconstruction.summary())"
   ]
  },
  {
   "cell_type": "markdown",
   "id": "3aa7de70",
   "metadata": {},
   "source": [
    "Перевод модели в формат TXT."
   ]
  },
  {
   "cell_type": "code",
   "execution_count": null,
   "id": "4d81a802",
   "metadata": {},
   "outputs": [],
   "source": [
    "!mkdir -p $exp3_dir/thresh_$thresh/model_txt/ \n",
    "\n",
    "!colmap model_converter \\\n",
    "    --input_path $exp3_dir/thresh_$thresh/ \\\n",
    "    --output_path $exp3_dir/thresh_$thresh/model_txt/ \\\n",
    "    --output_type TXT"
   ]
  },
  {
   "cell_type": "markdown",
   "id": "2737599e",
   "metadata": {},
   "source": [
    "# Visualization"
   ]
  },
  {
   "cell_type": "code",
   "execution_count": null,
   "id": "59053e01",
   "metadata": {},
   "outputs": [],
   "source": [
    "fig3d = init_figure()\n",
    "\n",
    "args = dict(max_reproj_error=3.0, \n",
    "            min_track_length=2, \n",
    "            cs=0.01) #camera size\n",
    "plot_reconstruction(fig3d, reconstruction, \n",
    "                    color='rgba(0, 255, 0, 0.5)', \n",
    "                    name=\"refined\", **args)\n",
    "if show_visualization:\n",
    "    fig3d.show()"
   ]
  },
  {
   "cell_type": "code",
   "execution_count": null,
   "id": "69c94e85",
   "metadata": {},
   "outputs": [],
   "source": [
    "refined = reconstruction\n",
    "\n",
    "img = refined.images[refined.reg_image_ids()[0]]\n",
    "cam = refined.cameras[img.camera_id]\n",
    "\n",
    "fig = init_image(images / img.name)    \n",
    "\n",
    "plot_points2D(fig, [p2D.xy for p2D in img.points2D if p2D.has_point3D()])\n",
    "plot_points2D(fig, cam.world_to_image(img.project(refined)), color='rgba(255, 0, 0, 0.5)')\n",
    "\n",
    "if show_visualization:\n",
    "    fig.show()"
   ]
  }
 ],
 "metadata": {
  "kernelspec": {
   "display_name": "Python 3 (ipykernel)",
   "language": "python",
   "name": "python3"
  },
  "language_info": {
   "codemirror_mode": {
    "name": "ipython",
    "version": 3
   },
   "file_extension": ".py",
   "mimetype": "text/x-python",
   "name": "python",
   "nbconvert_exporter": "python",
   "pygments_lexer": "ipython3",
   "version": "3.8.10"
  }
 },
 "nbformat": 4,
 "nbformat_minor": 5
}
