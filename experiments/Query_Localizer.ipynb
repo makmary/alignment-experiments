{
 "cells": [
  {
   "cell_type": "markdown",
   "id": "ac535ce1",
   "metadata": {},
   "source": [
    "## QUERY LOCALIZER EXPERIMENT"
   ]
  },
  {
   "cell_type": "markdown",
   "id": "630ce2f5",
   "metadata": {},
   "source": [
    "Целью данного эксперимента является нахождение позы нового изображения на основе уже имеющейся реконструкции SfM. Здесь описан пайплайн, когда мы сами создаем SfM при помощи аппрата PixSfM. Вы можете также использовать уже готовую SfM."
   ]
  },
  {
   "cell_type": "markdown",
   "id": "dfc43ded",
   "metadata": {},
   "source": [
    "# Libraries"
   ]
  },
  {
   "cell_type": "code",
   "execution_count": null,
   "id": "ed2c3518",
   "metadata": {},
   "outputs": [],
   "source": [
    "%load_ext autoreload\n",
    "%autoreload 2\n",
    "import tqdm, tqdm.notebook\n",
    "tqdm.tqdm = tqdm.notebook.tqdm  # notebook-friendly progress bars\n",
    "\n",
    "from pathlib import Path\n",
    "import pycolmap\n",
    "import sys\n",
    "\n",
    "sys.path.append(\"/workspace/pixel-perfect-sfm/\")\n",
    "sys.path.append(\"/workspace/pixel-perfect-sfm/Hierarchical-Localization\")\n",
    "\n",
    "from hloc import extract_features, match_features, reconstruction, pairs_from_exhaustive, visualization\n",
    "from hloc.visualization import plot_images, read_image\n",
    "from hloc.utils.viz_3d import init_figure, plot_points, plot_reconstruction, plot_camera_colmap\n",
    "from hloc.utils.read_write_model import  write_next_bytes, Point3D, Image, read_images_text, read_points3D_binary,\\\n",
    "        write_points3D_binary, write_images_binary, read_images_binary, write_images_text, read_cameras_binary, \\\n",
    "        Camera, write_cameras_text, read_cameras_text\n",
    "\n",
    "from pixsfm.util.visualize import init_image, plot_points2D\n",
    "from pixsfm.refine_hloc import PixSfM\n",
    "from pixsfm import ostream_redirect\n",
    "\n",
    "import numpy as np\n",
    "from matplotlib import pyplot as plt\n",
    "\n",
    "import open3d as o3d\n",
    "assert o3d.__version__ == '0.15.2', 'The version 0.15.2 is required!'\n",
    "\n",
    "# redirect the C++ outputs to notebook cells\n",
    "cpp_out = ostream_redirect(stderr=True, stdout=True)\n",
    "cpp_out.__enter__()"
   ]
  },
  {
   "cell_type": "markdown",
   "id": "0b855460",
   "metadata": {},
   "source": [
    "# Setup"
   ]
  },
  {
   "cell_type": "markdown",
   "id": "906f07db",
   "metadata": {},
   "source": [
    "В **object_name** необходимо задать имя объекта, над которым вы хотите провести эксперимент.\n",
    "\n",
    "**check_for_calibrated_images** - булевая переменная, по которой мы выбираем какие поз камер использовать (менее точные (True) или точные (False))\n",
    "\n",
    "**delete_previous_output** - если True, то удаляет все предыдущие файлы в папке outputs. Использовать супер осторожно."
   ]
  },
  {
   "cell_type": "code",
   "execution_count": null,
   "id": "1c1deaef",
   "metadata": {},
   "outputs": [],
   "source": [
    "object_name = 'dragon'\n",
    "\n",
    "check_for_calibrated_images = False\n",
    "delete_previous_output = False"
   ]
  },
  {
   "cell_type": "markdown",
   "id": "e0a4b312",
   "metadata": {},
   "source": [
    "**images_all** - путь к папке со всеми изображениями\n",
    "\n",
    "**outputs** - путь к папке со всеми результатами\n",
    "\n",
    "**cache_init** - путь к кэш-файлу, его мы получаем во время того, когда делаем KA или BA. В этот файле хранятся featuremaps после  dense feature extraction. В среднем на одну картинку размером 2368х1952 уходит 3 минуты. Этот файл вообще нельзя трогать, поэтому мы копируем его в папку outputs для своего эксперимента и продолжаем работу.\n",
    "\n",
    "**cache_path** - тот же файл, что cache_init, с которым мы теперь будем работать во время эксперимента.\n",
    "\n",
    "**sfm_pairs** - файл с названиями пар изображений на каждой строке\n",
    "\n",
    "**features** - файл с features для каждой картинки, извлеченными при помощи feature_conf\n",
    "\n",
    "**matches** - файл с matches для каждой пары картинок, извлеченными при помощи matcher_conf\n",
    "\n",
    "**pairs-loc.txt** - файл с названиями пар изображений на каждой строке (только на этот раз идут пары для картинок из ДБ со всеми возможными картинками из папки query)"
   ]
  },
  {
   "cell_type": "code",
   "execution_count": null,
   "id": "9371bdc5",
   "metadata": {},
   "outputs": [],
   "source": [
    "root = Path('/workspace')\n",
    "\n",
    "images_all = root / f'datasets/sk3d/dataset/{object_name}/tis_right/rgb/undistorted/ambient@best'\n",
    "\n",
    "cameras_init = root / 'datasets/sk3d/dataset/calibration/tis_right/rgb/cameras.txt'\n",
    "\n",
    "outputs = root / (f'pixel-perfect-sfm/outputs/{object_name}/localization')\n",
    "\n",
    "if delete_previous_output:\n",
    "    !rm -rf $outputs\n",
    "    \n",
    "outputs.mkdir(parents=True, exist_ok=True)\n",
    "\n",
    "sfm_pairs = outputs / 'pairs-sfm.txt'\n",
    "features = outputs / 'features.h5'\n",
    "matches = outputs / 'matches.h5'\n",
    "loc_pairs = outputs / 'pairs-loc.txt'\n",
    "\n",
    "exp_loc = outputs / \"localizer\"\n",
    "exp_loc.mkdir(parents=True, exist_ok=True)"
   ]
  },
  {
   "cell_type": "code",
   "execution_count": null,
   "id": "8a883025",
   "metadata": {},
   "outputs": [],
   "source": [
    "cache_init = root / f'pixel-perfect-sfm/outputs/caches/{object_name}/s2dnet_featuremaps_sparse.h5'\n",
    "!cp -r $cache_init $outputs\n",
    "cache_path = outputs / 's2dnet_featuremaps_sparse.h5'"
   ]
  },
  {
   "cell_type": "markdown",
   "id": "e3c46467",
   "metadata": {},
   "source": [
    "# 3D mapping and refinement"
   ]
  },
  {
   "cell_type": "markdown",
   "id": "aee283a3",
   "metadata": {},
   "source": [
    "Здесь описаны возможности для настройки [**extract_features**](https://github.com/cvg/Hierarchical-Localization/blob/91f40bfd765add3b59ba7376f8579d8829f7fa78/hloc/extract_features.py#L21)\n",
    "\n",
    "Здесь описаны возможности для настройки [**match_features**](https://github.com/cvg/Hierarchical-Localization/blob/91f40bfd765add3b59ba7376f8579d8829f7fa78/hloc/match_features.py#L17)\n",
    "\n",
    "Здесь описан пайплайн того, как можно использовать свои кастомные [**local features**, **matcher**, **image retrieval**](https://github.com/cvg/Hierarchical-Localization/tree/91f40bfd765add3b59ba7376f8579d8829f7fa78#using-your-own-local-features-or-matcher).\n"
   ]
  },
  {
   "cell_type": "code",
   "execution_count": null,
   "id": "3fa594d2",
   "metadata": {},
   "outputs": [],
   "source": [
    "feature_conf = extract_features.confs['superpoint_aachen']\n",
    "matcher_conf = match_features.confs['superglue']"
   ]
  },
  {
   "cell_type": "markdown",
   "id": "79842a7d",
   "metadata": {},
   "source": [
    "## Create db and query images"
   ]
  },
  {
   "cell_type": "markdown",
   "id": "4b8a39e8",
   "metadata": {},
   "source": [
    "Создаем две папки: mapping и query. В папке mapping будут лежать все те картинки, которые нужны нам для построения реконструкции.  В папке query будут находиться все те картинки, для которых мы хотим новую позы."
   ]
  },
  {
   "cell_type": "code",
   "execution_count": null,
   "id": "a2f87b8d",
   "metadata": {},
   "outputs": [],
   "source": [
    "import shutil\n",
    "\n",
    "images = root / f'pixel-perfect-sfm/dataset/{object_name}_loc'\n",
    "images.mkdir(parents=True, exist_ok=True)\n",
    "\n",
    "images_references = root / f'pixel-perfect-sfm/dataset/{object_name}_loc/mapping'\n",
    "images_references.mkdir(parents=True, exist_ok=True)\n",
    "ref_num = 3\n",
    "\n",
    "images_queries = root / f'pixel-perfect-sfm/dataset/{object_name}_loc/query'\n",
    "images_queries.mkdir(parents=True, exist_ok=True)\n",
    "\n",
    "img_list = sorted([str(p) for p in images_all.iterdir()])\n",
    "for fn in img_list[:ref_num]: shutil.copy(fn, str(images_references)) \n",
    "for fn in img_list[ref_num:100]: shutil.copy(fn, str(images_queries)) \n",
    "    \n",
    "!echo \"All image references: \" && ls $images_references\n",
    "!echo \"All image queries: \" && ls $images_queries"
   ]
  },
  {
   "cell_type": "markdown",
   "id": "cc68a2d9",
   "metadata": {},
   "source": [
    "Здесь мы проверяем какие изображения мы будем использовать для построения реконструкции SfM."
   ]
  },
  {
   "cell_type": "code",
   "execution_count": null,
   "id": "31ef0417",
   "metadata": {},
   "outputs": [],
   "source": [
    "references = [str(p.relative_to(images_references)) for p in images_references.iterdir()]\n",
    "print(references)\n",
    "print(len(references), \"mapping images\")\n",
    "plot_images([read_image(images_references / r) for r in references[:ref_num]], dpi=50)"
   ]
  },
  {
   "cell_type": "markdown",
   "id": "7e4aab95",
   "metadata": {},
   "source": [
    "**extract_features** - данная функция получает на вход *feature_conf*, *images* (путь к папке с изображениями), *image_list* (список тех изображений, которые вы хотите использовать для feature exctraction), *feature_path* (путь к файлу, где будет сохранен результат). На выходе получаем файл (**features**) с извлеченными features. Если **features** существует, то пропускается.\n",
    "\n",
    "**pairs_from_exhaustive** - данная функция получает на вход *sfm_pairs* (путь к файлу, где будет сохранен результат), *image_list* (список тех изображений, при помощи которых вы сделаете exhaustive pairs.) На выходе получаем файл (**sfm_pairs**) с парами изображений.  Если **sfm_pairs** существует, то пропускается.\n",
    "\n",
    "**match_features** - данная функция получает на вход *matcher_conf*, *sfm_pairs* (путь к файлу, где хранятся пары изображений после exhaustive pairing), *features* (путь к файлу, где хранятся извлеченный features для каждого изображения), *matches* (путь к файлу, где хранятся matches для каждой пары изображения). На выходе получаем файл (**matches**) с matches для каждой пары изображений . Если **match_features** существует, то пропускается.\n"
   ]
  },
  {
   "cell_type": "code",
   "execution_count": null,
   "id": "bf1e95d0",
   "metadata": {},
   "outputs": [],
   "source": [
    "extract_features.main(feature_conf, \n",
    "                      images_all, \n",
    "                      image_list=references, \n",
    "                      feature_path=features)\n",
    "\n",
    "pairs_from_exhaustive.main(sfm_pairs, \n",
    "                           image_list=references)\n",
    "\n",
    "match_features.main(matcher_conf, \n",
    "                    sfm_pairs, \n",
    "                    features=features, \n",
    "                    matches=matches);"
   ]
  },
  {
   "cell_type": "markdown",
   "id": "6d08e79e",
   "metadata": {},
   "source": [
    "После того как мы получили features и matches для картинок из папки mapping, мы можем приступить к построению реконструкции при помощи PixSfM. \n",
    "\n",
    "Здесь описано как можно настроить конфигурацию для КА и ВА. https://github.com/cvg/pixel-perfect-sfm#detailed-configuration"
   ]
  },
  {
   "cell_type": "code",
   "execution_count": null,
   "id": "b11fd618",
   "metadata": {
    "scrolled": true
   },
   "outputs": [],
   "source": [
    "# run pixsfm\n",
    "\n",
    "conf = {\n",
    "        \"dense_features\": {\n",
    "                \"use_cache\": False,\n",
    "        },\n",
    "         \"KA\": {\n",
    "                \"dense_features\": {'use_cache': True}, \n",
    "                \"split_in_subproblems\": True,\n",
    "                \"max_kps_per_problem\": 1000,  \n",
    "            },\n",
    "        \n",
    "        \"BA\": { \n",
    "                \"apply\": True,\n",
    "                \"optimizer\": {\n",
    "                      \"refine_focal_length\": False,  # whether to optimize the focal length\n",
    "                      \"refine_principal_point\": False,  # whether to optimize the principal points\n",
    "                      \"refine_extra_params\": False,  # whether to optimize distortion parameters\n",
    "                      \"refine_extrinsics\": True,  # whether to optimize the camera poses\n",
    "                }\n",
    "            }\n",
    "}\n",
    "\n",
    "\n",
    "_cams = read_cameras_text(str(cameras_init))\n",
    "f, cx, cy, k = _cams[0].params\n",
    "\n",
    "opts = dict(camera_model='PINHOLE', \n",
    "            camera_params=','.join(map(str, (f, cx, cy, k))))\n",
    "\n",
    "hloc_args = dict(\n",
    "                camera_mode=pycolmap.CameraMode.SINGLE,\n",
    "                verbose=True,\n",
    "                image_options=opts)\n",
    "print(hloc_args)\n",
    "\n",
    "\n",
    "\n",
    "opts = dict(camera_model='PINHOLE')\n",
    "hloc_args = dict(camera_mode=pycolmap.CameraMode.SINGLE,\n",
    "                #verbose=True,\n",
    "                image_options=opts)\n",
    "\n",
    "\n",
    "sfm = PixSfM(conf)\n",
    "model, sfm_outputs = sfm.reconstruction(exp_loc, \n",
    "                                          images_all, \n",
    "                                          sfm_pairs, \n",
    "                                          features, \n",
    "                                          matches, \n",
    "                                          image_list=references, \n",
    "                                          **hloc_args)\n",
    "\n",
    "print(model.summary())"
   ]
  },
  {
   "cell_type": "markdown",
   "id": "fd7a25a6",
   "metadata": {},
   "source": [
    "Перевод модели в формат TXT."
   ]
  },
  {
   "cell_type": "code",
   "execution_count": null,
   "id": "96f9ccd0",
   "metadata": {},
   "outputs": [],
   "source": [
    "!mkdir -p $exp_loc/hloc/model_txt/ \n",
    "\n",
    "!colmap model_converter \\\n",
    "    --input_path $exp_loc/hloc/ \\\n",
    "    --output_path $exp_loc/hloc/model_txt/ \\\n",
    "    --output_type TXT"
   ]
  },
  {
   "cell_type": "markdown",
   "id": "0fb1d621",
   "metadata": {},
   "source": [
    "## Localization"
   ]
  },
  {
   "cell_type": "markdown",
   "id": "9a48260c",
   "metadata": {},
   "source": [
    "Здесь мы можем проверить для каких изображений мы хотим найти новые позы."
   ]
  },
  {
   "cell_type": "code",
   "execution_count": null,
   "id": "ffc9503e",
   "metadata": {},
   "outputs": [],
   "source": [
    "queries = [str(p.relative_to(images_queries)) for p in images_queries.iterdir()]\n",
    "print(len(queries), \" queries images\")\n",
    "print(sorted(queries))\n",
    "plot_images([read_image(images_queries / r) for r in queries[:4]], dpi=50)"
   ]
  },
  {
   "cell_type": "markdown",
   "id": "dd04d795",
   "metadata": {},
   "source": [
    "**features_query** - файл с features для каждой картинки из папки query, извлеченными при помощи feature_conf\n",
    "\n",
    "**matches_query** - файл с matches для каждой пары картинок (mapping -> query), извлеченными при помощи matcher_conf"
   ]
  },
  {
   "cell_type": "code",
   "execution_count": null,
   "id": "604ea4a7",
   "metadata": {},
   "outputs": [],
   "source": [
    "features_query = outputs / 'features_query.h5'\n",
    "matches_query = outputs / 'matches_query.h5'\n",
    "\n",
    "references_registered = [model.images[i].name for i in model.reg_image_ids()]\n",
    "\n",
    "extract_features.main(feature_conf, \n",
    "                      images_all, \n",
    "                      image_list=queries, \n",
    "                      feature_path=features_query)\n",
    "\n",
    "pairs_from_exhaustive.main(loc_pairs, \n",
    "                           image_list=queries, \n",
    "                           ref_list=references_registered)"
   ]
  },
  {
   "cell_type": "code",
   "execution_count": null,
   "id": "3bcd72a4",
   "metadata": {},
   "outputs": [],
   "source": [
    "match_features.main(matcher_conf, \n",
    "                    loc_pairs, \n",
    "                    features=features_query, \n",
    "                    matches=matches_query, \n",
    "                    features_ref=features);"
   ]
  },
  {
   "cell_type": "markdown",
   "id": "9a201055",
   "metadata": {},
   "source": [
    "На данном этапе мы создаем объект QueryLocalizer, который принимает *model* (pycolmap.Reconstruction объект, модель, на основе которой мы будем находить новые позы для изображений), *conf* (конфиг для query localizer), *dense_features* (dense features из SfM реконструкции).\n",
    "\n",
    "Здесь описано как можно настроить конфигурацию для query localization. https://github.com/cvg/pixel-perfect-sfm#detailed-configuration"
   ]
  },
  {
   "cell_type": "code",
   "execution_count": null,
   "id": "4d224fed",
   "metadata": {},
   "outputs": [],
   "source": [
    "import pycolmap\n",
    "from pixsfm.localize import QueryLocalizer, pose_from_cluster\n",
    "\n",
    "loc_conf = {\n",
    "        \"dense_features\": sfm.conf.dense_features,  # same features as the SfM refinement\n",
    "        \"PnP\": {  # initial pose estimation with PnP+RANSAC\n",
    "            'estimation': {'ransac': {'max_error': 12.0}},\n",
    "            'refinement': {'refine_focal_length': False, \n",
    "                           'refine_extra_params': False},\n",
    "        },\n",
    "        \"QBA\": {  # query pose refinement\n",
    "            \"optimizer:\": {'refine_focal_length': False, \n",
    "                           'refine_extra_params': False},\n",
    "        }\n",
    "    }\n",
    "\n",
    "\n",
    "ref_ids = [model.find_image_with_name(r).image_id for r in references_registered]\n",
    "dense_features = sfm_outputs[\"feature_manager\"]\n",
    "\n",
    "\n",
    "# localizer computes references for the entire reconstruction at init\n",
    "# Parameters:\n",
    "# - config: Union[dict,DictConfig]: config of localization (use {} for default)\n",
    "# - reconstruction: pycolmap.Reconstruction; reference COLMAP reconstruction\n",
    "# - feature_manager: features of reference reconstruction\n",
    "\n",
    "localizer = QueryLocalizer(model, \n",
    "                           conf=loc_conf, \n",
    "                           dense_features=dense_features)"
   ]
  },
  {
   "cell_type": "markdown",
   "id": "94c376c9",
   "metadata": {},
   "source": [
    "Объявляем какие параметры камеры мы хотим использовать для того чтобы локализовать query ихображение. Тут я использую камеру с теми же параметрами, которые использовались для построения SfM на основе изображений из папки mapping."
   ]
  },
  {
   "cell_type": "code",
   "execution_count": null,
   "id": "fa371ea9",
   "metadata": {},
   "outputs": [],
   "source": [
    "_cams = read_cameras_binary(str(exp_loc / 'hloc/cameras.bin'))\n",
    "cam_info = _cams[1]\n",
    "print(_cams[1])\n",
    "\n",
    "pinhole_camera = pycolmap.Camera(\n",
    "                            model='PINHOLE',\n",
    "                            width=cam_info.width,\n",
    "                            height=cam_info.height,\n",
    "                            params=cam_info.params)\n",
    "    \n",
    "print(\"Camera info --> \", camera)"
   ]
  },
  {
   "cell_type": "markdown",
   "id": "8c5e9d08",
   "metadata": {},
   "source": [
    "# Query Localization (1 query)"
   ]
  },
  {
   "cell_type": "markdown",
   "id": "560c7cdd",
   "metadata": {},
   "source": [
    "Находим позу для первого query изображения при помощи функции **pose_cluster**. Под капотом, QueryLocalizer извлекает dense features для query изображения и прогоняет QKA (query keypoint adjustment) и QBA (query pose adjustment)."
   ]
  },
  {
   "cell_type": "code",
   "execution_count": null,
   "id": "85886013",
   "metadata": {},
   "outputs": [],
   "source": [
    "query = sorted(queries)[0]\n",
    "\n",
    "ret, log = pose_from_cluster(localizer, \n",
    "                             query, \n",
    "                             pinhole_camera, \n",
    "                             ref_ids, \n",
    "                             features_query, \n",
    "                             matches_query, \n",
    "                             image_path=images_all / query)"
   ]
  },
  {
   "cell_type": "code",
   "execution_count": null,
   "id": "5263db8d",
   "metadata": {},
   "outputs": [],
   "source": [
    "print(f'found {sum(ret[\"inliers\"])}/{len(ret[\"inliers\"])} inlier correspondences.')\n",
    "\n",
    "visualization.visualize_loc_from_log(images_all, \n",
    "                         query, \n",
    "                         log, \n",
    "                         model, \n",
    "                         top_k_db=2)"
   ]
  },
  {
   "cell_type": "markdown",
   "id": "42bce15f",
   "metadata": {},
   "source": [
    "# Visualization of first query"
   ]
  },
  {
   "cell_type": "code",
   "execution_count": null,
   "id": "8a8533cd",
   "metadata": {},
   "outputs": [],
   "source": [
    "fig3d = init_figure()\n",
    "\n",
    "pose = pycolmap.Image(tvec=ret['tvec'], qvec=ret['qvec'])\n",
    "plot_camera_colmap(fig3d, pose, pinhole_camera, color='rgba(128,128,255,0.5)', \n",
    "                   name=query, legendgroup=\"refined\")\n",
    "args = dict(max_reproj_error=3.0, min_track_length=2, cs=1)\n",
    "plot_reconstruction(fig3d, model, color='rgba(0, 255, 0, 0.5)', name=\"model\", **args)\n",
    "fig3d.show()\n",
    "fig3d.write_html(\"dragon_one_query_localizer.html\")"
   ]
  },
  {
   "cell_type": "markdown",
   "id": "6c714bdd",
   "metadata": {},
   "source": [
    "# Query Localization (all queries)"
   ]
  },
  {
   "cell_type": "markdown",
   "id": "173cf8a6",
   "metadata": {},
   "source": [
    "Находим позу для всех query изображений при помощи функции **pose_cluster**. Под капотом, QueryLocalizer извлекает dense features для query изображения и прогоняет QKA (query keypoint adjustment) и QBA (query pose adjustment). Для нахождения позы в среднем на одну картинку размером 2368х1952 уходит 3 минуты."
   ]
  },
  {
   "cell_type": "code",
   "execution_count": null,
   "id": "3433576f",
   "metadata": {},
   "outputs": [],
   "source": [
    "result_dict = {}\n",
    "extra_dict = {}\n",
    "\n",
    "for k, query in enumerate(sorted(queries)):\n",
    "    print(f'Current query image --> {query}')\n",
    "\n",
    "    ret, log = pose_from_cluster(localizer, \n",
    "                                 query, \n",
    "                                 pinhole_camera, \n",
    "                                 ref_ids, \n",
    "                                 features_query, \n",
    "                                 matches_query, \n",
    "                                 image_path=images_all / query)    \n",
    "    \n",
    "    print(\"ret --> \", ret['qvec'], ret['tvec'], ret['camera'])\n",
    "\n",
    "    image_id = int(Path(query).stem) + 1\n",
    "    \n",
    "    result_dict[image_id] = Image(\n",
    "                id=image_id, \n",
    "                qvec=ret['qvec'], \n",
    "                tvec=ret['tvec'],\n",
    "                camera_id=cam_info.id, \n",
    "                name=query,\n",
    "                xys= np.array([]), \n",
    "                point3D_ids= np.array([]),\n",
    "    )\n",
    "    \n",
    "    extra_dict.update({\n",
    "        'id': int(Path(query).stem) + 1,\n",
    "        'qvec': ret['qvec'],\n",
    "        'tvec': ret['tvec'],\n",
    "        'camera': ret['camera'],\n",
    "    })\n",
    "    "
   ]
  },
  {
   "cell_type": "markdown",
   "id": "381482f5",
   "metadata": {},
   "source": [
    "Ниже описано в какой папке сохраняется файл со всеми позами из SfM и новыми query."
   ]
  },
  {
   "cell_type": "code",
   "execution_count": null,
   "id": "083a1eb6",
   "metadata": {},
   "outputs": [],
   "source": [
    "images_dict = read_images_binary(str(exp_loc / 'hloc/images.bin'))\n",
    "\n",
    "for val in images_dict.values():\n",
    "    image_id = int(Path(val.name).stem) + 1\n",
    "    qvec = val.qvec\n",
    "    tvec = val.tvec\n",
    "    camera_id = val.camera_id\n",
    "    image_name = val.name\n",
    "    result_dict[image_id] = Image(\n",
    "                id=image_id, \n",
    "                qvec=qvec, \n",
    "                tvec=tvec,\n",
    "                camera_id=camera_id, \n",
    "                name=image_name,\n",
    "                xys=np.array([]), \n",
    "                point3D_ids=np.array([]))\n",
    "    \n",
    "print(len(result_dict)) \n",
    "\n",
    "result_dir = exp_loc / 'result'\n",
    "result_dir.mkdir(parents=True, exist_ok=True)\n",
    "\n",
    "write_images_text(result_dict, result_dir / 'images.txt')\n",
    "write_cameras_text(_cams, result_dir / 'cameras.txt')"
   ]
  },
  {
   "cell_type": "markdown",
   "id": "3674fae8",
   "metadata": {},
   "source": [
    "# Visualization of all queries"
   ]
  },
  {
   "cell_type": "markdown",
   "id": "9c4721a8",
   "metadata": {},
   "source": [
    "Здесь изображены все найденные позы для query изображений, рядом с ними также расположена SfM."
   ]
  },
  {
   "cell_type": "code",
   "execution_count": null,
   "id": "f582f060",
   "metadata": {},
   "outputs": [],
   "source": [
    "args = dict(max_reproj_error=3.0, min_track_length=2, cs=1)\n",
    "\n",
    "fig3d = init_figure()\n",
    "for index, ret in result_dict.items():\n",
    "    pose = pycolmap.Image(tvec=ret.tvec, qvec=ret.qvec)\n",
    "    plot_camera_colmap(fig3d, pose, pinhole_camera, color='rgba(128,128,255,0.5)', \n",
    "                       name=ret.name, legendgroup=\"refined\")\n",
    "plot_reconstruction(fig3d, model, color='rgba(0, 255, 0, 0.5)', name=\"model\", **args)\n",
    "    \n",
    "fig3d.show()\n",
    "\n",
    "fig3d.write_html(\"dragon_query_localizer.html\")"
   ]
  }
 ],
 "metadata": {
  "kernelspec": {
   "display_name": "Python 3 (ipykernel)",
   "language": "python",
   "name": "python3"
  },
  "language_info": {
   "codemirror_mode": {
    "name": "ipython",
    "version": 3
   },
   "file_extension": ".py",
   "mimetype": "text/x-python",
   "name": "python",
   "nbconvert_exporter": "python",
   "pygments_lexer": "ipython3",
   "version": "3.8.10"
  }
 },
 "nbformat": 4,
 "nbformat_minor": 5
}
