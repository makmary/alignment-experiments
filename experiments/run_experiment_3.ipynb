{
 "cells": [
  {
   "cell_type": "markdown",
   "id": "5ec3bc6a",
   "metadata": {},
   "source": [
    "## THIRD EXPERIMENT"
   ]
  },
  {
   "cell_type": "markdown",
   "id": "ff68740e",
   "metadata": {},
   "source": [
    "Для третьего эксперимента был использован следующий подход: у нас есть готовая SfM (которую мы получили из 2го эксперимента), при помощи которой мы хотим создать новую SfM с заменой 3д точек. 3D точки были взяты из GT-меша.  Рядом с GT-мешом расположили облако от реконструкции и уронили точки из облака на меш по направлению нормалей меша (ray-casting)."
   ]
  },
  {
   "cell_type": "markdown",
   "id": "cbbe40fd",
   "metadata": {},
   "source": [
    "# Libraries\n"
   ]
  },
  {
   "cell_type": "code",
   "execution_count": 16,
   "id": "08d28b36",
   "metadata": {},
   "outputs": [
    {
     "name": "stdout",
     "output_type": "stream",
     "text": [
      "The autoreload extension is already loaded. To reload it, use:\n",
      "  %reload_ext autoreload\n"
     ]
    }
   ],
   "source": [
    "%load_ext autoreload\n",
    "%autoreload 2\n",
    "import tqdm, tqdm.notebook\n",
    "tqdm.tqdm = tqdm.notebook.tqdm  # notebook-friendly progress bars\n",
    "\n",
    "from pathlib import Path\n",
    "import pycolmap\n",
    "import sys\n",
    "\n",
    "sys.path.append(\"/workspace/pixel-perfect-sfm/\")\n",
    "sys.path.append(\"/workspace/pixel-perfect-sfm/Hierarchical-Localization\")\n",
    "\n",
    "from hloc import extract_features, match_features, reconstruction, pairs_from_exhaustive, visualization\n",
    "from hloc.visualization import plot_images, read_image\n",
    "from hloc.utils.viz_3d import init_figure, plot_points, plot_reconstruction, plot_camera_colmap\n",
    "from hloc.utils.read_write_model import  write_next_bytes, Point3D, Image, read_images_text, read_points3D_binary,\\\n",
    "        write_points3D_binary, write_images_binary, read_images_binary, read_cameras_text, read_points3D_text, \\\n",
    "        write_points3D_text, write_images_text\n",
    "\n",
    "from pixsfm.util.visualize import init_image, plot_points2D\n",
    "from pixsfm.refine_hloc import PixSfM\n",
    "from pixsfm import ostream_redirect\n",
    "\n",
    "import numpy as np\n",
    "from matplotlib import pyplot as plt\n",
    "\n",
    "import open3d as o3d\n",
    "assert o3d.__version__ == '0.15.2', 'The version 0.15.2 is required!'\n",
    "\n",
    "# redirect the C++ outputs to notebook cells\n",
    "cpp_out = ostream_redirect(stderr=True, stdout=True)\n",
    "cpp_out.__enter__()"
   ]
  },
  {
   "cell_type": "markdown",
   "id": "e3f18c47",
   "metadata": {},
   "source": [
    "# Setup"
   ]
  },
  {
   "cell_type": "markdown",
   "id": "2a377ded",
   "metadata": {},
   "source": [
    "В **object_name** необходимо задать имя объекта, над которым вы хотите провести эксперимент.\n",
    "\n",
    "**check_for_calibrated_images** - булевая переменная, по которой мы выбираем какие поз камер использовать (менее точные (True) или точные (False))\n",
    "\n",
    "**delete_previous_output** - если True, то удаляет все предыдущие файлы в папке outputs. Использовать супер осторожно."
   ]
  },
  {
   "cell_type": "code",
   "execution_count": 2,
   "id": "791cbd5a",
   "metadata": {},
   "outputs": [],
   "source": [
    "object_name = 'dragon'\n",
    "\n",
    "check_for_calibrated_images = False\n",
    "delete_previous_output = False"
   ]
  },
  {
   "cell_type": "markdown",
   "id": "33dc8168",
   "metadata": {},
   "source": [
    "**images_init** - путь к файлу images.txt с известными позами камер (каждая вторая строка пустая)\n",
    "\n",
    "**calibrated_images_init** - путь к файлу images.txt c известнами позами камер (но менее точные)\n",
    "\n",
    "**cameras_init** - путь к файлу cameras.txt\n",
    "\n",
    "**gt_init** - путь к GT-мешу\n",
    "\n",
    "**images** - путь к папке с изображениями для реконструкции\n",
    "\n",
    "**outputs** - путь к папке со всеми результатами\n",
    "\n",
    "**cache_init** - путь к кэш-файлу, его мы получаем во время того, когда делаем KA или BA. В этот файле хранятся featuremaps после dense feature extraction. В среднем на одну картинку размером 2368х1952 уходит 3 минуты. Этот файл вообще нельзя трогать, поэтому мы копируем его в папку outputs для своего эксперимента и продолжаем работу.\n",
    "\n",
    "**cache_path** - тот же файл, что cache_init, с которым мы теперь будем работать во время эксперимента.\n",
    "\n",
    "**sfm_pairs** - файл с названиями пар изображений на каждой строке\n",
    "\n",
    "**features** - файл с features для каждой картинки, извлеченными при помощи feature_conf\n",
    "\n",
    "**matches** - файл с matches для каждой пары картинок, извлеченными при помощи matcher_conf"
   ]
  },
  {
   "cell_type": "code",
   "execution_count": 3,
   "id": "83c8e88a",
   "metadata": {},
   "outputs": [],
   "source": [
    "root = Path('/workspace')\n",
    "\n",
    "images_init = root / f'datasets/sk3d/dataset/{object_name}/tis_right/rgb/images.txt'\n",
    "calibrated_images_init = root / 'datasets/sk3d/dataset/calibration/tis_right/rgb/images.txt' # менее точные\n",
    "\n",
    "cameras_init = root / 'datasets/sk3d/dataset/calibration/tis_right/rgb/cameras.txt'\n",
    "gt_init = root / f'datasets/sk3d/dataset/{object_name}/stl/reconstruction/cleaned.ply'\n",
    "\n",
    "# all images for our object\n",
    "images = root / f'datasets/sk3d/dataset/{object_name}/tis_right/rgb/undistorted/ambient@best'\n",
    "\n",
    "# where all result data will be stored\n",
    "outputs = Path(f'../outputs/{object_name}/')\n",
    "\n",
    "if delete_previous_output:\n",
    "    !rm -rf $outputs \n",
    "\n",
    "outputs.mkdir(parents=True, exist_ok=True)\n",
    "\n",
    "sfm_pairs = outputs / 'pairs-sfm.txt'\n",
    "features = outputs / 'features.h5'\n",
    "matches = outputs / 'matches.h5'\n",
    "\n",
    "sfm_dir = outputs / \"sfm\"\n",
    "sfm_dir.mkdir(parents=True, exist_ok=True)\n",
    "\n",
    "exp3_dir = outputs / \"exp3\"\n",
    "exp3_dir.mkdir(parents=True, exist_ok=True)\n",
    "\n",
    "\n",
    "if check_for_calibrated_images:\n",
    "    images_init = calibrated_images_init\n",
    "\n",
    "    exp3_dir = outputs / \"calibrated/exp3\"\n",
    "    exp3_dir.mkdir(parents=True, exist_ok=True)\n"
   ]
  },
  {
   "cell_type": "markdown",
   "id": "beb0b866",
   "metadata": {},
   "source": [
    "**sfm_dir** - папка, в которой хранится реконструкция из второго эксперимента. \n",
    "\n",
    "**exp3_dir** - папка, в которой будет сохранен результат третьего эксперимента."
   ]
  },
  {
   "cell_type": "code",
   "execution_count": 4,
   "id": "64fdbf4b",
   "metadata": {},
   "outputs": [],
   "source": [
    "cache_init = root / f'pixel-perfect-sfm/outputs/caches/{object_name}/s2dnet_featuremaps_sparse.h5'\n",
    "!cp -r $cache_init $outputs\n",
    "cache_path = outputs / 's2dnet_featuremaps_sparse.h5'"
   ]
  },
  {
   "cell_type": "markdown",
   "id": "df70edaf",
   "metadata": {},
   "source": [
    "Смотрим саммэри для готовой реконструкции."
   ]
  },
  {
   "cell_type": "code",
   "execution_count": 6,
   "id": "5dd3e59d",
   "metadata": {},
   "outputs": [
    {
     "name": "stdout",
     "output_type": "stream",
     "text": [
      "Reconstruction from second experiment:  Reconstruction:\n",
      "\tnum_reg_images = 100\n",
      "\tnum_cameras = 1\n",
      "\tnum_points3D = 2494\n",
      "\tnum_observations = 45009\n",
      "\tmean_track_length = 18.0469\n",
      "\tmean_observations_per_image = 450.09\n",
      "\tmean_reprojection_error = 1.29788\n"
     ]
    }
   ],
   "source": [
    "sfm_reconstructiom = pycolmap.Reconstruction(sfm_dir)\n",
    "print(\"Reconstruction from second experiment: \", sfm_reconstructiom.summary())"
   ]
  },
  {
   "cell_type": "code",
   "execution_count": 7,
   "id": "848aabb7",
   "metadata": {},
   "outputs": [],
   "source": [
    "# get 3d points from our reconstruction\n",
    "ref_3d_points = {}\n",
    "\n",
    "# ref_3d_points - dict with keys of points_id and values as points\n",
    "for point3D_id, point3D in sfm_reconstructiom.points3D.items():\n",
    "    ref_3d_points.update({point3D_id: list(point3D.xyz)})"
   ]
  },
  {
   "cell_type": "code",
   "execution_count": 8,
   "id": "002854e8",
   "metadata": {},
   "outputs": [
    {
     "name": "stdout",
     "output_type": "stream",
     "text": [
      "The closest point on the surface is [[ 0.02234131  0.01788197  0.69950044]\n",
      " [-0.02654355  0.01675105  0.7015435 ]\n",
      " [-0.050308    0.04227084  0.67818844]\n",
      " ...\n",
      " [ 0.03360966  0.03137421  0.67034227]\n",
      " [-0.09064084  0.0208866   0.70000476]\n",
      " [-0.07028318  0.01878796  0.6946191 ]]\n",
      "Number of points  2494\n",
      "Distance between points and mesh  [1.8609574e-04 2.9431682e-04 8.0131441e-02 ... 7.1005215e-06 2.3379524e-03\n",
      " 2.8307794e-04]\n"
     ]
    }
   ],
   "source": [
    "# Code to find distance between points and mesh 'path_to_reference_mesh'\n",
    "vert = list(ref_3d_points.values())\n",
    "\n",
    "rec = o3d.io.read_triangle_mesh(str(gt_init))\n",
    "rec.compute_vertex_normals()\n",
    "\n",
    "raycasting =  o3d.t.geometry.RaycastingScene()\n",
    "rec = o3d.t.geometry.TriangleMesh.from_legacy(rec)\n",
    "raycasting.add_triangles(rec)\n",
    "\n",
    "# pts has shape [pts_n, 3]\n",
    "pts = o3d.core.Tensor(vert, dtype=o3d.core.Dtype.Float32)\n",
    "ans = raycasting.compute_closest_points(pts)\n",
    "closest_pts = raycasting.compute_closest_points(pts)['points'].numpy()\n",
    "\n",
    "print('The closest point on the surface is', closest_pts)\n",
    "print('Number of points ',  len(closest_pts))\n",
    "dist = np.linalg.norm(closest_pts - pts.numpy(), axis=1)\n",
    "print('Distance between points and mesh ', dist)"
   ]
  },
  {
   "cell_type": "markdown",
   "id": "91b17fb5",
   "metadata": {},
   "source": [
    "Здесь нужно установить определенный threshold. Мы будем вычислять расстояние между точками и GT-мешом. Если расстояние меньше чем установленный threshold, то эти точки оставляем и записываем в БД, иначе удаляем точки и из меша и в БД. В ланном случае мы выбрали threshold 9 см."
   ]
  },
  {
   "cell_type": "code",
   "execution_count": 9,
   "id": "3facf6ec",
   "metadata": {},
   "outputs": [],
   "source": [
    "thresh = 0.09"
   ]
  },
  {
   "cell_type": "code",
   "execution_count": 10,
   "id": "907bc6c6",
   "metadata": {},
   "outputs": [
    {
     "data": {
      "image/png": "[encoded data removed]",
      "text/plain": [
       "<Figure size 640x480 with 1 Axes>"
      ]
     },
     "metadata": {},
     "output_type": "display_data"
    }
   ],
   "source": [
    "dist_1, dist_2 = [], []\n",
    "\n",
    "pts_all = []\n",
    "pts_out_range = []\n",
    "pts_in_range = []\n",
    "\n",
    "# vert - vertices from second reconstruction\n",
    "# pts - corresponding closest points for vert\n",
    "\n",
    "for i in range(len(vert)):\n",
    "    dist = np.linalg.norm(closest_pts[i] - pts[i]).numpy()\n",
    "    dist_1.append(dist)\n",
    "    pts_all.append(pts[i].numpy())\n",
    "    if 0 < dist < thresh:\n",
    "        pts_all[i] = closest_pts[i]\n",
    "        pts_in_range.append(closest_pts[i])\n",
    "        \n",
    "        new_dist = np.linalg.norm(pts_all[i] - pts[i]).numpy()\n",
    "        dist_2.append(new_dist)\n",
    "    else:\n",
    "        pts_out_range.append(pts[i].numpy())\n",
    "        \n",
    "        dist_2.append(thresh)\n",
    "        \n",
    "\n",
    "plt.plot(dist_1, color='red')\n",
    "plt.plot(dist_2, color='green')\n",
    "plt.show()  "
   ]
  },
  {
   "cell_type": "markdown",
   "id": "77b366a6",
   "metadata": {},
   "source": [
    "Создаем два множества точек: 1) внутри threshold и мы их оставляем   2) за пределами threshold и мы их удаляем. "
   ]
  },
  {
   "cell_type": "code",
   "execution_count": 11,
   "id": "e3cca1e0",
   "metadata": {},
   "outputs": [],
   "source": [
    "points3d_in = {}\n",
    "points3d_out = {}\n",
    "\n",
    "for point3D_id, point3D in sfm_reconstructiom.points3D.items():\n",
    "\n",
    "    query_point = [list(point3D.xyz)]\n",
    "    pts = o3d.core.Tensor(query_point, dtype=o3d.core.Dtype.Float32)\n",
    "    ans = raycasting.compute_closest_points(pts)\n",
    "    closest_pts = raycasting.compute_closest_points(pts)['points'].numpy()\n",
    "    dist = np.linalg.norm(closest_pts - pts.numpy(), axis=1)\n",
    "    \n",
    "    if 0 < dist < thresh:\n",
    "        points3d_in.update({point3D_id: closest_pts.ravel()})\n",
    "    else:\n",
    "        points3d_out.update({point3D_id: point3D.xyz.astype(np.float32)})"
   ]
  },
  {
   "cell_type": "markdown",
   "id": "242333f9",
   "metadata": {},
   "source": [
    "Создаем файл point3D.txt"
   ]
  },
  {
   "cell_type": "code",
   "execution_count": 14,
   "id": "421fba65",
   "metadata": {},
   "outputs": [],
   "source": [
    "# getting ground truth points from second reconstruction\n",
    "\n",
    "#gt_points = read_points3D_binary( sfm_dir / 'points3D.bin')\n",
    "gt_points = read_points3D_text(sfm_dir / 'points3D.txt')\n",
    "\n",
    "points3D = {}\n",
    "\n",
    "# updating gt_points\n",
    "for key, value in points3d_in.items():\n",
    "    if (gt_points[key].xyz != value).all():\n",
    "        point3D_id = gt_points[key].id\n",
    "        \n",
    "        # putting new value here\n",
    "        xyz = value \n",
    "        rgb = gt_points[key].rgb\n",
    "        error = gt_points[key].error\n",
    "        image_ids_ = gt_points[key].image_ids\n",
    "        point2D_idxs = gt_points[key].point2D_idxs\n",
    "        points3D[point3D_id] = Point3D(id=point3D_id, \n",
    "                                       xyz=xyz, \n",
    "                                       rgb=rgb,\n",
    "                                       error=error, \n",
    "                                       image_ids=image_ids_,\n",
    "                                       point2D_idxs=point2D_idxs)\n",
    "\n",
    "\n",
    "# write_points3D_binary(points3D, exp3_dir / 'points3D.bin')    \n",
    "write_points3D_text(points3D, exp3_dir / 'points3D.txt')  "
   ]
  },
  {
   "cell_type": "markdown",
   "id": "a0ac2f64",
   "metadata": {},
   "source": [
    "Создаем файл images.txt"
   ]
  },
  {
   "cell_type": "code",
   "execution_count": 17,
   "id": "140180ff",
   "metadata": {},
   "outputs": [],
   "source": [
    "#images_dict = read_images_binary( sfm_dir / 'images.bin')\n",
    "images_dict = read_images_text( sfm_dir / 'images.txt')\n",
    "\n",
    "updated_images_dict = {}\n",
    "\n",
    "\n",
    "pts_to_delete = points3d_out.keys()\n",
    "\n",
    "#updating images dictionary\n",
    "for k, value in images_dict.items():\n",
    "    new_point3D_ids = []\n",
    "    image_id = k\n",
    "    qvec = value.qvec\n",
    "    tvec = value.tvec\n",
    "    camera_id = value.camera_id\n",
    "    name = value.name\n",
    "    xys = value.xys\n",
    "      \n",
    "    # we need to put -1 for images.txt, because we will not have these points anymore    \n",
    "    for _id in value.point3D_ids:\n",
    "        if _id in pts_to_delete:\n",
    "            new_point3D_ids.append(-1)\n",
    "        else:\n",
    "            new_point3D_ids.append(_id)\n",
    "\n",
    "    updated_images_dict[image_id] = Image(\n",
    "                id=image_id, \n",
    "                qvec=qvec, tvec=tvec,\n",
    "                camera_id=camera_id, \n",
    "                name=name,\n",
    "                xys=xys, \n",
    "                point3D_ids=np.array(new_point3D_ids))\n",
    "\n",
    "# write_images_binary(updated_images_dict, exp3_dir / 'images.bin')    \n",
    "write_images_text(updated_images_dict, exp3_dir / 'images.txt')    "
   ]
  },
  {
   "cell_type": "markdown",
   "id": "c5fc0d8e",
   "metadata": {},
   "source": [
    "Копируем cameras.txt из предыдущего эксперимента."
   ]
  },
  {
   "cell_type": "code",
   "execution_count": 18,
   "id": "76f7ca54",
   "metadata": {},
   "outputs": [],
   "source": [
    "!cp -r $sfm_dir/cameras.txt $exp3_dir"
   ]
  },
  {
   "cell_type": "markdown",
   "id": "eccd00b5",
   "metadata": {},
   "source": [
    "**Featuremetric BA (Bundle Adjustment)**\n",
    "\n",
    "В конфиге conf_BA расписана необходимая информация для того, чтобы сделать BA. В этом конфиге также указано, что вы хотите использовать cache, который находится в пути cache_path.\n",
    "\n",
    "Здесь описано как настроить конфигурацию для ВА. https://github.com/cvg/pixel-perfect-sfm#detailed-configuration\n"
   ]
  },
  {
   "cell_type": "code",
   "execution_count": 19,
   "id": "1a97fdae",
   "metadata": {},
   "outputs": [
    {
     "name": "stderr",
     "output_type": "stream",
     "text": [
      "/usr/local/lib/python3.8/dist-packages/torchvision/models/_utils.py:208: UserWarning: The parameter 'pretrained' is deprecated since 0.13 and will be removed in 0.15, please use 'weights' instead.\n",
      "  warnings.warn(\n",
      "/usr/local/lib/python3.8/dist-packages/torchvision/models/_utils.py:223: UserWarning: Arguments other than a weight enum or `None` for 'weights' are deprecated since 0.13 and will be removed in 0.15. The current behavior is equivalent to passing `weights=None`.\n",
      "  warnings.warn(msg)\n",
      "[2022/09/20 03:46:59 pixsfm.features.models.s2dnet INFO] Loading S2DNet checkpoint at /workspace/pixel-perfect-sfm/pixsfm/features/models/checkpoints/s2dnet_weights.pth.\n",
      "[2022/09/20 03:46:59 pixsfm INFO] Loaded dense extractor with configuration:\n",
      "{'cache_format': 'chunked',\n",
      " 'device': 'auto',\n",
      " 'dtype': 'half',\n",
      " 'fast_image_load': False,\n",
      " 'l2_normalize': True,\n",
      " 'load_cache_on_init': False,\n",
      " 'max_edge': 1600,\n",
      " 'model': {'name': 's2dnet'},\n",
      " 'overwrite_cache': False,\n",
      " 'patch_size': 16,\n",
      " 'pyr_scales': [1.0],\n",
      " 'resize': 'LANCZOS',\n",
      " 'sparse': True,\n",
      " 'use_cache': True}\n"
     ]
    },
    {
     "name": "stdout",
     "output_type": "stream",
     "text": [
      "[2022/09/20 03:47:00 pixsfm INFO] Loading featuremaps from H5 File.\n"
     ]
    },
    {
     "name": "stderr",
     "output_type": "stream",
     "text": [
      "100%[████████████████████] 100/100 [00:00, 699.300it/s]\u001b[K\n"
     ]
    },
    {
     "name": "stdout",
     "output_type": "stream",
     "text": [
      "[2022/09/20 03:47:00 pixsfm INFO] Loading patches from H5 File.\n"
     ]
    },
    {
     "name": "stderr",
     "output_type": "stream",
     "text": [
      "100%[████████████████████] 39275/39275 [00:01, 29821.5it/s]\u001b[K\n"
     ]
    },
    {
     "name": "stdout",
     "output_type": "stream",
     "text": [
      "[2022/09/20 03:47:01 pixsfm INFO] Extracting references.\n"
     ]
    },
    {
     "name": "stderr",
     "output_type": "stream",
     "text": [
      "100%[████████████████████] 2181/2181 [00:02, 840.138it/s]\u001b[K\n",
      "\r"
     ]
    },
    {
     "name": "stdout",
     "output_type": "stream",
     "text": [
      "[2022/09/20 03:47:04 pixsfm INFO] Reference Extraction Time: 2.59682s\n",
      "[2022/09/20 03:47:04 pixsfm INFO] Start feature-reference bundle adjustment.\n"
     ]
    },
    {
     "name": "stderr",
     "output_type": "stream",
     "text": [
      "100%[████████████████████] 101/101 [00:45, 2.21758it/s]\u001b[K\n"
     ]
    },
    {
     "name": "stdout",
     "output_type": "stream",
     "text": [
      "[2022/09/20 03:47:50 pixsfm INFO] BA Time: 45.5529s, cost change: 0.0194269 --> 0.0191479\n",
      "Reconstruction:\n",
      "\tnum_reg_images = 100\n",
      "\tnum_cameras = 1\n",
      "\tnum_points3D = 2181\n",
      "\tnum_observations = 39275\n",
      "\tmean_track_length = 18.0078\n",
      "\tmean_observations_per_image = 392.75\n",
      "\tmean_reprojection_error = 1.3587\n"
     ]
    }
   ],
   "source": [
    "from pixsfm.refine_colmap import PixSfM\n",
    "\n",
    "conf_BA = {\n",
    "        \"dense_features\": {\n",
    "                \"use_cache\": True,\n",
    "        },\n",
    "        \n",
    "        \"BA\": {\n",
    "            \"dense_features\": {'use_cache': True}, \n",
    "            \"apply\": True\n",
    "        }\n",
    "}\n",
    "\n",
    "refiner = PixSfM(conf=conf_BA)\n",
    "reconstruction, ba_data, feature_manager = refiner.refine_reconstruction(\n",
    "    output_path = exp3_dir / f'thresh_{thresh}',\n",
    "    input_path = exp3_dir,\n",
    "    image_dir = images,\n",
    "    cache_path = cache_path,\n",
    ")\n",
    "\n",
    "print(reconstruction.summary())"
   ]
  },
  {
   "cell_type": "markdown",
   "id": "65e9e24e",
   "metadata": {},
   "source": [
    "Перевод модели в формат TXT."
   ]
  },
  {
   "cell_type": "code",
   "execution_count": 20,
   "id": "259f4de5",
   "metadata": {},
   "outputs": [],
   "source": [
    "!mkdir -p $exp3_dir/thresh_$thresh/model_txt/ \n",
    "\n",
    "!colmap model_converter \\\n",
    "    --input_path $exp3_dir/thresh_$thresh/ \\\n",
    "    --output_path $exp3_dir/thresh_$thresh/model_txt/ \\\n",
    "    --output_type TXT"
   ]
  }
 ],
 "metadata": {
  "kernelspec": {
   "display_name": "Python 3 (ipykernel)",
   "language": "python",
   "name": "python3"
  },
  "language_info": {
   "codemirror_mode": {
    "name": "ipython",
    "version": 3
   },
   "file_extension": ".py",
   "mimetype": "text/x-python",
   "name": "python",
   "nbconvert_exporter": "python",
   "pygments_lexer": "ipython3",
   "version": "3.8.10"
  }
 },
 "nbformat": 4,
 "nbformat_minor": 5
}
